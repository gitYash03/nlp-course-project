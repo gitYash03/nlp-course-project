{
  "cells": [
    {
      "cell_type": "markdown",
      "id": "118cec97",
      "metadata": {
        "id": "118cec97"
      },
      "source": [
        "# This Notebook Perform two things...........\n",
        "\n",
        "# 1 Section:                                                                 \n",
        "Research Area Subject Area Prediction (Large Scale classification) using shallow Multi-Layer Perceptron (MLP) model\n",
        "\n",
        "# 2 Section:\n",
        "Research Paper Recommendation for reading: using sentence transformer model\n",
        "\n",
        "Research Papers dataset link::\n",
        "https://www.kaggle.com/datasets/spsayakpaul/arxiv-paper-abstracts/data\n"
      ]
    },
    {
      "cell_type": "markdown",
      "source": [],
      "metadata": {
        "id": "J-ijTEoVUse_"
      },
      "id": "J-ijTEoVUse_"
    },
    {
      "cell_type": "markdown",
      "id": "2b7cb120",
      "metadata": {
        "id": "2b7cb120"
      },
      "source": [
        "# 1 Section:                                                                 "
      ]
    },
    {
      "cell_type": "markdown",
      "id": "5adda69d",
      "metadata": {
        "id": "5adda69d"
      },
      "source": [
        "# Loading tools and dataset"
      ]
    },
    {
      "cell_type": "code",
      "execution_count": 1,
      "id": "a0cb9160",
      "metadata": {
        "id": "a0cb9160"
      },
      "outputs": [],
      "source": [
        "from tensorflow.keras import layers\n",
        "from tensorflow import keras\n",
        "import tensorflow as tf\n",
        "\n",
        "from sklearn.model_selection import train_test_split\n",
        "\n",
        "from ast import literal_eval\n",
        "# is used for safely evaluating strings containing Python literals or container displays\n",
        "# (e.g., lists, dictionaries) to their corresponding Python objects.\n",
        "\n",
        "import matplotlib.pyplot as plt\n",
        "import pandas as pd\n",
        "import numpy as np"
      ]
    },
    {
      "cell_type": "code",
      "execution_count": 16,
      "id": "130dc39f",
      "metadata": {
        "id": "130dc39f"
      },
      "outputs": [],
      "source": [
        "import pandas as pd\n",
        "\n",
        "# Use the more robust engine and tell it to skip any lines it still finds problematic\n",
        "arxiv_data = pd.read_csv(\"arxiv_data.csv\")"
      ]
    },
    {
      "cell_type": "code",
      "execution_count": 17,
      "id": "6a912841",
      "metadata": {
        "colab": {
          "base_uri": "https://localhost:8080/",
          "height": 293
        },
        "id": "6a912841",
        "outputId": "dc446ff5-91b5-46a4-ae4b-7010d646872b"
      },
      "outputs": [
        {
          "output_type": "execute_result",
          "data": {
            "text/plain": [
              "                                              titles  \\\n",
              "0  Survey on Semantic Stereo Matching / Semantic ...   \n",
              "1  FUTURE-AI: Guiding Principles and Consensus Re...   \n",
              "2  Enforcing Mutual Consistency of Hard Regions f...   \n",
              "3  Parameter Decoupling Strategy for Semi-supervi...   \n",
              "4  Background-Foreground Segmentation for Interio...   \n",
              "\n",
              "                                           summaries  \\\n",
              "0  Stereo matching is one of the widely used tech...   \n",
              "1  The recent advancements in artificial intellig...   \n",
              "2  In this paper, we proposed a novel mutual cons...   \n",
              "3  Consistency training has proven to be an advan...   \n",
              "4  To ensure safety in automated driving, the cor...   \n",
              "\n",
              "                         terms  \n",
              "0           ['cs.CV', 'cs.LG']  \n",
              "1  ['cs.CV', 'cs.AI', 'cs.LG']  \n",
              "2           ['cs.CV', 'cs.AI']  \n",
              "3                    ['cs.CV']  \n",
              "4           ['cs.CV', 'cs.LG']  "
            ],
            "text/html": [
              "\n",
              "  <div id=\"df-0f79480a-d4df-4d28-ba9f-7faa1cfb1f41\" class=\"colab-df-container\">\n",
              "    <div>\n",
              "<style scoped>\n",
              "    .dataframe tbody tr th:only-of-type {\n",
              "        vertical-align: middle;\n",
              "    }\n",
              "\n",
              "    .dataframe tbody tr th {\n",
              "        vertical-align: top;\n",
              "    }\n",
              "\n",
              "    .dataframe thead th {\n",
              "        text-align: right;\n",
              "    }\n",
              "</style>\n",
              "<table border=\"1\" class=\"dataframe\">\n",
              "  <thead>\n",
              "    <tr style=\"text-align: right;\">\n",
              "      <th></th>\n",
              "      <th>titles</th>\n",
              "      <th>summaries</th>\n",
              "      <th>terms</th>\n",
              "    </tr>\n",
              "  </thead>\n",
              "  <tbody>\n",
              "    <tr>\n",
              "      <th>0</th>\n",
              "      <td>Survey on Semantic Stereo Matching / Semantic ...</td>\n",
              "      <td>Stereo matching is one of the widely used tech...</td>\n",
              "      <td>['cs.CV', 'cs.LG']</td>\n",
              "    </tr>\n",
              "    <tr>\n",
              "      <th>1</th>\n",
              "      <td>FUTURE-AI: Guiding Principles and Consensus Re...</td>\n",
              "      <td>The recent advancements in artificial intellig...</td>\n",
              "      <td>['cs.CV', 'cs.AI', 'cs.LG']</td>\n",
              "    </tr>\n",
              "    <tr>\n",
              "      <th>2</th>\n",
              "      <td>Enforcing Mutual Consistency of Hard Regions f...</td>\n",
              "      <td>In this paper, we proposed a novel mutual cons...</td>\n",
              "      <td>['cs.CV', 'cs.AI']</td>\n",
              "    </tr>\n",
              "    <tr>\n",
              "      <th>3</th>\n",
              "      <td>Parameter Decoupling Strategy for Semi-supervi...</td>\n",
              "      <td>Consistency training has proven to be an advan...</td>\n",
              "      <td>['cs.CV']</td>\n",
              "    </tr>\n",
              "    <tr>\n",
              "      <th>4</th>\n",
              "      <td>Background-Foreground Segmentation for Interio...</td>\n",
              "      <td>To ensure safety in automated driving, the cor...</td>\n",
              "      <td>['cs.CV', 'cs.LG']</td>\n",
              "    </tr>\n",
              "  </tbody>\n",
              "</table>\n",
              "</div>\n",
              "    <div class=\"colab-df-buttons\">\n",
              "\n",
              "  <div class=\"colab-df-container\">\n",
              "    <button class=\"colab-df-convert\" onclick=\"convertToInteractive('df-0f79480a-d4df-4d28-ba9f-7faa1cfb1f41')\"\n",
              "            title=\"Convert this dataframe to an interactive table.\"\n",
              "            style=\"display:none;\">\n",
              "\n",
              "  <svg xmlns=\"http://www.w3.org/2000/svg\" height=\"24px\" viewBox=\"0 -960 960 960\">\n",
              "    <path d=\"M120-120v-720h720v720H120Zm60-500h600v-160H180v160Zm220 220h160v-160H400v160Zm0 220h160v-160H400v160ZM180-400h160v-160H180v160Zm440 0h160v-160H620v160ZM180-180h160v-160H180v160Zm440 0h160v-160H620v160Z\"/>\n",
              "  </svg>\n",
              "    </button>\n",
              "\n",
              "  <style>\n",
              "    .colab-df-container {\n",
              "      display:flex;\n",
              "      gap: 12px;\n",
              "    }\n",
              "\n",
              "    .colab-df-convert {\n",
              "      background-color: #E8F0FE;\n",
              "      border: none;\n",
              "      border-radius: 50%;\n",
              "      cursor: pointer;\n",
              "      display: none;\n",
              "      fill: #1967D2;\n",
              "      height: 32px;\n",
              "      padding: 0 0 0 0;\n",
              "      width: 32px;\n",
              "    }\n",
              "\n",
              "    .colab-df-convert:hover {\n",
              "      background-color: #E2EBFA;\n",
              "      box-shadow: 0px 1px 2px rgba(60, 64, 67, 0.3), 0px 1px 3px 1px rgba(60, 64, 67, 0.15);\n",
              "      fill: #174EA6;\n",
              "    }\n",
              "\n",
              "    .colab-df-buttons div {\n",
              "      margin-bottom: 4px;\n",
              "    }\n",
              "\n",
              "    [theme=dark] .colab-df-convert {\n",
              "      background-color: #3B4455;\n",
              "      fill: #D2E3FC;\n",
              "    }\n",
              "\n",
              "    [theme=dark] .colab-df-convert:hover {\n",
              "      background-color: #434B5C;\n",
              "      box-shadow: 0px 1px 3px 1px rgba(0, 0, 0, 0.15);\n",
              "      filter: drop-shadow(0px 1px 2px rgba(0, 0, 0, 0.3));\n",
              "      fill: #FFFFFF;\n",
              "    }\n",
              "  </style>\n",
              "\n",
              "    <script>\n",
              "      const buttonEl =\n",
              "        document.querySelector('#df-0f79480a-d4df-4d28-ba9f-7faa1cfb1f41 button.colab-df-convert');\n",
              "      buttonEl.style.display =\n",
              "        google.colab.kernel.accessAllowed ? 'block' : 'none';\n",
              "\n",
              "      async function convertToInteractive(key) {\n",
              "        const element = document.querySelector('#df-0f79480a-d4df-4d28-ba9f-7faa1cfb1f41');\n",
              "        const dataTable =\n",
              "          await google.colab.kernel.invokeFunction('convertToInteractive',\n",
              "                                                    [key], {});\n",
              "        if (!dataTable) return;\n",
              "\n",
              "        const docLinkHtml = 'Like what you see? Visit the ' +\n",
              "          '<a target=\"_blank\" href=https://colab.research.google.com/notebooks/data_table.ipynb>data table notebook</a>'\n",
              "          + ' to learn more about interactive tables.';\n",
              "        element.innerHTML = '';\n",
              "        dataTable['output_type'] = 'display_data';\n",
              "        await google.colab.output.renderOutput(dataTable, element);\n",
              "        const docLink = document.createElement('div');\n",
              "        docLink.innerHTML = docLinkHtml;\n",
              "        element.appendChild(docLink);\n",
              "      }\n",
              "    </script>\n",
              "  </div>\n",
              "\n",
              "\n",
              "    <div id=\"df-d9bc9e13-a453-4a73-a4ad-b11a74c6bc3a\">\n",
              "      <button class=\"colab-df-quickchart\" onclick=\"quickchart('df-d9bc9e13-a453-4a73-a4ad-b11a74c6bc3a')\"\n",
              "                title=\"Suggest charts\"\n",
              "                style=\"display:none;\">\n",
              "\n",
              "<svg xmlns=\"http://www.w3.org/2000/svg\" height=\"24px\"viewBox=\"0 0 24 24\"\n",
              "     width=\"24px\">\n",
              "    <g>\n",
              "        <path d=\"M19 3H5c-1.1 0-2 .9-2 2v14c0 1.1.9 2 2 2h14c1.1 0 2-.9 2-2V5c0-1.1-.9-2-2-2zM9 17H7v-7h2v7zm4 0h-2V7h2v10zm4 0h-2v-4h2v4z\"/>\n",
              "    </g>\n",
              "</svg>\n",
              "      </button>\n",
              "\n",
              "<style>\n",
              "  .colab-df-quickchart {\n",
              "      --bg-color: #E8F0FE;\n",
              "      --fill-color: #1967D2;\n",
              "      --hover-bg-color: #E2EBFA;\n",
              "      --hover-fill-color: #174EA6;\n",
              "      --disabled-fill-color: #AAA;\n",
              "      --disabled-bg-color: #DDD;\n",
              "  }\n",
              "\n",
              "  [theme=dark] .colab-df-quickchart {\n",
              "      --bg-color: #3B4455;\n",
              "      --fill-color: #D2E3FC;\n",
              "      --hover-bg-color: #434B5C;\n",
              "      --hover-fill-color: #FFFFFF;\n",
              "      --disabled-bg-color: #3B4455;\n",
              "      --disabled-fill-color: #666;\n",
              "  }\n",
              "\n",
              "  .colab-df-quickchart {\n",
              "    background-color: var(--bg-color);\n",
              "    border: none;\n",
              "    border-radius: 50%;\n",
              "    cursor: pointer;\n",
              "    display: none;\n",
              "    fill: var(--fill-color);\n",
              "    height: 32px;\n",
              "    padding: 0;\n",
              "    width: 32px;\n",
              "  }\n",
              "\n",
              "  .colab-df-quickchart:hover {\n",
              "    background-color: var(--hover-bg-color);\n",
              "    box-shadow: 0 1px 2px rgba(60, 64, 67, 0.3), 0 1px 3px 1px rgba(60, 64, 67, 0.15);\n",
              "    fill: var(--button-hover-fill-color);\n",
              "  }\n",
              "\n",
              "  .colab-df-quickchart-complete:disabled,\n",
              "  .colab-df-quickchart-complete:disabled:hover {\n",
              "    background-color: var(--disabled-bg-color);\n",
              "    fill: var(--disabled-fill-color);\n",
              "    box-shadow: none;\n",
              "  }\n",
              "\n",
              "  .colab-df-spinner {\n",
              "    border: 2px solid var(--fill-color);\n",
              "    border-color: transparent;\n",
              "    border-bottom-color: var(--fill-color);\n",
              "    animation:\n",
              "      spin 1s steps(1) infinite;\n",
              "  }\n",
              "\n",
              "  @keyframes spin {\n",
              "    0% {\n",
              "      border-color: transparent;\n",
              "      border-bottom-color: var(--fill-color);\n",
              "      border-left-color: var(--fill-color);\n",
              "    }\n",
              "    20% {\n",
              "      border-color: transparent;\n",
              "      border-left-color: var(--fill-color);\n",
              "      border-top-color: var(--fill-color);\n",
              "    }\n",
              "    30% {\n",
              "      border-color: transparent;\n",
              "      border-left-color: var(--fill-color);\n",
              "      border-top-color: var(--fill-color);\n",
              "      border-right-color: var(--fill-color);\n",
              "    }\n",
              "    40% {\n",
              "      border-color: transparent;\n",
              "      border-right-color: var(--fill-color);\n",
              "      border-top-color: var(--fill-color);\n",
              "    }\n",
              "    60% {\n",
              "      border-color: transparent;\n",
              "      border-right-color: var(--fill-color);\n",
              "    }\n",
              "    80% {\n",
              "      border-color: transparent;\n",
              "      border-right-color: var(--fill-color);\n",
              "      border-bottom-color: var(--fill-color);\n",
              "    }\n",
              "    90% {\n",
              "      border-color: transparent;\n",
              "      border-bottom-color: var(--fill-color);\n",
              "    }\n",
              "  }\n",
              "</style>\n",
              "\n",
              "      <script>\n",
              "        async function quickchart(key) {\n",
              "          const quickchartButtonEl =\n",
              "            document.querySelector('#' + key + ' button');\n",
              "          quickchartButtonEl.disabled = true;  // To prevent multiple clicks.\n",
              "          quickchartButtonEl.classList.add('colab-df-spinner');\n",
              "          try {\n",
              "            const charts = await google.colab.kernel.invokeFunction(\n",
              "                'suggestCharts', [key], {});\n",
              "          } catch (error) {\n",
              "            console.error('Error during call to suggestCharts:', error);\n",
              "          }\n",
              "          quickchartButtonEl.classList.remove('colab-df-spinner');\n",
              "          quickchartButtonEl.classList.add('colab-df-quickchart-complete');\n",
              "        }\n",
              "        (() => {\n",
              "          let quickchartButtonEl =\n",
              "            document.querySelector('#df-d9bc9e13-a453-4a73-a4ad-b11a74c6bc3a button');\n",
              "          quickchartButtonEl.style.display =\n",
              "            google.colab.kernel.accessAllowed ? 'block' : 'none';\n",
              "        })();\n",
              "      </script>\n",
              "    </div>\n",
              "\n",
              "    </div>\n",
              "  </div>\n"
            ],
            "application/vnd.google.colaboratory.intrinsic+json": {
              "type": "dataframe",
              "variable_name": "arxiv_data",
              "summary": "{\n  \"name\": \"arxiv_data\",\n  \"rows\": 51774,\n  \"fields\": [\n    {\n      \"column\": \"titles\",\n      \"properties\": {\n        \"dtype\": \"string\",\n        \"num_unique_values\": 38972,\n        \"samples\": [\n          \"Sum-Product-Transform Networks: Exploiting Symmetries using Invertible Transformations\",\n          \"A Primal-Dual Subgradient Approachfor Fair Meta Learning\",\n          \"Adversarial Multi-Source Transfer Learning in Healthcare: Application to Glucose Prediction for Diabetic People\"\n        ],\n        \"semantic_type\": \"\",\n        \"description\": \"\"\n      }\n    },\n    {\n      \"column\": \"summaries\",\n      \"properties\": {\n        \"dtype\": \"string\",\n        \"num_unique_values\": 38979,\n        \"samples\": [\n          \"Continual learning (CL) is a setting in which an agent has to learn from an\\nincoming stream of data during its entire lifetime. Although major advances\\nhave been made in the field, one recurring problem which remains unsolved is\\nthat of Catastrophic Forgetting (CF). While the issue has been extensively\\nstudied empirically, little attention has been paid from a theoretical angle.\\nIn this paper, we show that the impact of CF increases as two tasks\\nincreasingly align. We introduce a measure of task similarity called the NTK\\noverlap matrix which is at the core of CF. We analyze common projected gradient\\nalgorithms and demonstrate how they mitigate forgetting. Then, we propose a\\nvariant of Orthogonal Gradient Descent (OGD) which leverages structure of the\\ndata through Principal Component Analysis (PCA). Experiments support our\\ntheoretical findings and show how our method can help reduce CF on classical CL\\ndatasets.\",\n          \"Few-shot learning is a challenging task since only few instances are given\\nfor recognizing an unseen class. One way to alleviate this problem is to\\nacquire a strong inductive bias via meta-learning on similar tasks. In this\\npaper, we show that such inductive bias can be learned from a flat collection\\nof unlabeled images, and instantiated as transferable representations among\\nseen and unseen classes. Specifically, we propose a novel part-based\\nself-supervised representation learning scheme to learn transferable\\nrepresentations by maximizing the similarity of an image to its discriminative\\npart. To mitigate the overfitting in few-shot classification caused by data\\nscarcity, we further propose a part augmentation strategy by retrieving extra\\nimages from a base dataset. We conduct systematic studies on miniImageNet and\\ntieredImageNet benchmarks. Remarkably, our method yields impressive results,\\noutperforming the previous best unsupervised methods by 7.74% and 9.24% under\\n5-way 1-shot and 5-way 5-shot settings, which are comparable with\\nstate-of-the-art supervised methods.\",\n          \"Surgical instrument segmentation is extremely important for computer-assisted\\nsurgery. Different from common object segmentation, it is more challenging due\\nto the large illumination and scale variation caused by the special surgical\\nscenes. In this paper, we propose a novel bilinear attention network with\\nadaptive receptive field to solve these two challenges. For the illumination\\nvariation, the bilinear attention module can capture second-order statistics to\\nencode global contexts and semantic dependencies between local pixels. With\\nthem, semantic features in challenging areas can be inferred from their\\nneighbors and the distinction of various semantics can be boosted. For the\\nscale variation, our adaptive receptive field module aggregates multi-scale\\nfeatures and automatically fuses them with different weights. Specifically, it\\nencodes the semantic relationship between channels to emphasize feature maps\\nwith appropriate scales, changing the receptive field of subsequent\\nconvolutions. The proposed network achieves the best performance 97.47% mean\\nIOU on Cata7 and comes first place on EndoVis 2017 by 10.10% IOU overtaking\\nsecond-ranking method.\"\n        ],\n        \"semantic_type\": \"\",\n        \"description\": \"\"\n      }\n    },\n    {\n      \"column\": \"terms\",\n      \"properties\": {\n        \"dtype\": \"category\",\n        \"num_unique_values\": 3157,\n        \"samples\": [\n          \"['cs.LG', 'cs.CE', 'q-fin.ST', 'stat.ML']\",\n          \"['cs.LG', 'physics.comp-ph', 'physics.flu-dyn']\",\n          \"['cs.LG', 'cs.CV', 'math.AT']\"\n        ],\n        \"semantic_type\": \"\",\n        \"description\": \"\"\n      }\n    }\n  ]\n}"
            }
          },
          "metadata": {},
          "execution_count": 17
        }
      ],
      "source": [
        "arxiv_data.head()"
      ]
    },
    {
      "cell_type": "markdown",
      "id": "796e8c0b",
      "metadata": {
        "id": "796e8c0b"
      },
      "source": [
        "# Data Cleaning and Preprocessing"
      ]
    },
    {
      "cell_type": "code",
      "execution_count": 18,
      "id": "0f6ce7b0",
      "metadata": {
        "colab": {
          "base_uri": "https://localhost:8080/"
        },
        "id": "0f6ce7b0",
        "outputId": "5d681f30-94a8-4087-d2d0-840dde66ad10"
      },
      "outputs": [
        {
          "output_type": "execute_result",
          "data": {
            "text/plain": [
              "(51774, 3)"
            ]
          },
          "metadata": {},
          "execution_count": 18
        }
      ],
      "source": [
        "arxiv_data.shape"
      ]
    },
    {
      "cell_type": "code",
      "execution_count": 19,
      "id": "9dd86c28",
      "metadata": {
        "colab": {
          "base_uri": "https://localhost:8080/",
          "height": 178
        },
        "id": "9dd86c28",
        "outputId": "dd004657-9837-4648-a8e2-925466cf79d2"
      },
      "outputs": [
        {
          "output_type": "execute_result",
          "data": {
            "text/plain": [
              "titles       0\n",
              "summaries    0\n",
              "terms        0\n",
              "dtype: int64"
            ],
            "text/html": [
              "<div>\n",
              "<style scoped>\n",
              "    .dataframe tbody tr th:only-of-type {\n",
              "        vertical-align: middle;\n",
              "    }\n",
              "\n",
              "    .dataframe tbody tr th {\n",
              "        vertical-align: top;\n",
              "    }\n",
              "\n",
              "    .dataframe thead th {\n",
              "        text-align: right;\n",
              "    }\n",
              "</style>\n",
              "<table border=\"1\" class=\"dataframe\">\n",
              "  <thead>\n",
              "    <tr style=\"text-align: right;\">\n",
              "      <th></th>\n",
              "      <th>0</th>\n",
              "    </tr>\n",
              "  </thead>\n",
              "  <tbody>\n",
              "    <tr>\n",
              "      <th>titles</th>\n",
              "      <td>0</td>\n",
              "    </tr>\n",
              "    <tr>\n",
              "      <th>summaries</th>\n",
              "      <td>0</td>\n",
              "    </tr>\n",
              "    <tr>\n",
              "      <th>terms</th>\n",
              "      <td>0</td>\n",
              "    </tr>\n",
              "  </tbody>\n",
              "</table>\n",
              "</div><br><label><b>dtype:</b> int64</label>"
            ]
          },
          "metadata": {},
          "execution_count": 19
        }
      ],
      "source": [
        "arxiv_data.isnull().sum()"
      ]
    },
    {
      "cell_type": "code",
      "execution_count": 20,
      "id": "efcdf227",
      "metadata": {
        "colab": {
          "base_uri": "https://localhost:8080/"
        },
        "id": "efcdf227",
        "outputId": "470afde5-c115-46ff-b5d7-e1038e559a6b"
      },
      "outputs": [
        {
          "output_type": "execute_result",
          "data": {
            "text/plain": [
              "np.int64(12783)"
            ]
          },
          "metadata": {},
          "execution_count": 20
        }
      ],
      "source": [
        "arxiv_data.duplicated().sum()"
      ]
    },
    {
      "cell_type": "code",
      "execution_count": 21,
      "id": "c14beaba",
      "metadata": {
        "colab": {
          "base_uri": "https://localhost:8080/"
        },
        "id": "c14beaba",
        "outputId": "a44da9da-aa89-4253-abc9-87684bf14ad4"
      },
      "outputs": [
        {
          "output_type": "stream",
          "name": "stdout",
          "text": [
            "labels : ['cs.CV' 'cs.LG' 'cs.AI' ... 'I.2.6; I.5.1; G.3'\n",
            " '92E10, 46M20, 94A08, 68U10, 44A12, 55R35' '92E10']\n",
            "lenght : 1099\n"
          ]
        }
      ],
      "source": [
        "# getting unique labels\n",
        "labels_column = arxiv_data['terms'].apply(literal_eval)\n",
        "labels = labels_column.explode().unique()\n",
        "print(\"labels :\",labels)\n",
        "print(\"lenght :\",len(labels))"
      ]
    },
    {
      "cell_type": "code",
      "execution_count": 22,
      "id": "d52c4165",
      "metadata": {
        "colab": {
          "base_uri": "https://localhost:8080/"
        },
        "id": "d52c4165",
        "outputId": "9faaefa7-1297-4cb6-8612-34d74de64531"
      },
      "outputs": [
        {
          "output_type": "stream",
          "name": "stdout",
          "text": [
            "There are 38972 rows in the deduplicated dataset.\n",
            "2321\n",
            "3157\n"
          ]
        }
      ],
      "source": [
        "# remove duplicate entries based on the \"titles\" (terms) column\n",
        "# This filters the DataFrame, keeping only the rows where the titles are not duplicated.\n",
        "arxiv_data = arxiv_data[~arxiv_data['titles'].duplicated()]\n",
        "print(f\"There are {len(arxiv_data)} rows in the deduplicated dataset.\")\n",
        "# There are some terms with occurrence as low as 1.\n",
        "print(sum(arxiv_data['terms'].value_counts()==1))\n",
        "# how many unique terms\n",
        "print(arxiv_data['terms'].nunique())"
      ]
    },
    {
      "cell_type": "code",
      "execution_count": 23,
      "id": "5883bdf4",
      "metadata": {
        "colab": {
          "base_uri": "https://localhost:8080/"
        },
        "id": "5883bdf4",
        "outputId": "c64ce8b6-aaf1-4f82-98ba-7191af8d0bb4"
      },
      "outputs": [
        {
          "output_type": "execute_result",
          "data": {
            "text/plain": [
              "(36651, 3)"
            ]
          },
          "metadata": {},
          "execution_count": 23
        }
      ],
      "source": [
        "# Filtering the rare terms. (it keeps only those rows where the \"terms\" value occurs more than once in the original DataFrame.)\n",
        "arxiv_data_filtered = arxiv_data.groupby('terms').filter(lambda x: len(x) > 1)\n",
        "arxiv_data_filtered.shape"
      ]
    },
    {
      "cell_type": "code",
      "execution_count": 24,
      "id": "a8e35864",
      "metadata": {
        "colab": {
          "base_uri": "https://localhost:8080/"
        },
        "id": "a8e35864",
        "outputId": "80c8f43c-3c66-4892-dcd1-a717a8aa9e93"
      },
      "outputs": [
        {
          "output_type": "execute_result",
          "data": {
            "text/plain": [
              "array([list(['cs.CV', 'cs.LG']), list(['cs.CV', 'cs.AI', 'cs.LG']),\n",
              "       list(['cs.CV', 'cs.AI'])], dtype=object)"
            ]
          },
          "metadata": {},
          "execution_count": 24
        }
      ],
      "source": [
        "# It evaluates the given string containing a Python literal or container display (e.g., a list or dictionary) and returns the corresponding Python object.\n",
        "arxiv_data_filtered['terms'] = arxiv_data_filtered['terms'].apply(lambda x: literal_eval(x))\n",
        "arxiv_data_filtered['terms'].values[:3]"
      ]
    },
    {
      "cell_type": "markdown",
      "id": "22ba3861",
      "metadata": {
        "id": "22ba3861"
      },
      "source": [
        "# train and test split."
      ]
    },
    {
      "cell_type": "code",
      "execution_count": 25,
      "id": "fd52b83c",
      "metadata": {
        "colab": {
          "base_uri": "https://localhost:8080/"
        },
        "id": "fd52b83c",
        "outputId": "03ebff66-cc4a-4441-c2ca-e615b1bf5e82"
      },
      "outputs": [
        {
          "output_type": "stream",
          "name": "stdout",
          "text": [
            "Number of rows in training set: 32985\n",
            "Number of rows in validation set: 1833\n",
            "Number of rows in test set: 1833\n"
          ]
        }
      ],
      "source": [
        "test_split = 0.1\n",
        "\n",
        "# Initial train and test split.\n",
        "# The stratify parameter ensures that the splitting is done in a way that preserves the same distribution of labels (terms) in both the training and test sets.\n",
        "train_df, test_df = train_test_split(arxiv_data_filtered,test_size=test_split,stratify=arxiv_data_filtered[\"terms\"].values,)\n",
        "\n",
        "# Splitting the test set further into validation\n",
        "# and new test sets.\n",
        "val_df = test_df.sample(frac=0.5)\n",
        "test_df.drop(val_df.index, inplace=True)\n",
        "\n",
        "print(f\"Number of rows in training set: {len(train_df)}\")\n",
        "print(f\"Number of rows in validation set: {len(val_df)}\")\n",
        "print(f\"Number of rows in test set: {len(test_df)}\")"
      ]
    },
    {
      "cell_type": "code",
      "execution_count": 26,
      "id": "ee848e0d",
      "metadata": {
        "colab": {
          "base_uri": "https://localhost:8080/"
        },
        "id": "ee848e0d",
        "outputId": "e7cb5669-7c97-4509-fb1c-b703d6f74a88"
      },
      "outputs": [
        {
          "output_type": "stream",
          "name": "stdout",
          "text": [
            "Vocabulary:\n",
            "\n",
            "['[UNK]', np.str_('cs.CV'), np.str_('cs.LG'), np.str_('stat.ML'), np.str_('cs.AI'), np.str_('eess.IV'), np.str_('cs.RO'), np.str_('cs.CL'), np.str_('cs.NE'), np.str_('cs.CR'), np.str_('math.OC'), np.str_('eess.SP'), np.str_('cs.GR'), np.str_('cs.SI'), np.str_('cs.MM'), np.str_('cs.SY'), np.str_('cs.IR'), np.str_('cs.MA'), np.str_('eess.SY'), np.str_('cs.HC'), np.str_('math.IT'), np.str_('cs.IT'), np.str_('cs.DC'), np.str_('cs.CY'), np.str_('stat.AP'), np.str_('stat.TH'), np.str_('math.ST'), np.str_('stat.ME'), np.str_('eess.AS'), np.str_('cs.SD'), np.str_('q-bio.QM'), np.str_('q-bio.NC'), np.str_('cs.DS'), np.str_('cs.GT'), np.str_('cs.NI'), np.str_('cs.CG'), np.str_('cs.SE'), np.str_('I.2.6'), np.str_('stat.CO'), np.str_('math.NA'), np.str_('cs.NA'), np.str_('physics.chem-ph'), np.str_('cs.DB'), np.str_('q-bio.BM'), np.str_('cs.LO'), np.str_('cs.PL'), np.str_('cond-mat.dis-nn'), np.str_('68T45'), np.str_('math.PR'), np.str_('physics.comp-ph'), np.str_('cs.CE'), np.str_('cs.AR'), np.str_('I.2.10'), np.str_('q-fin.ST'), np.str_('cond-mat.stat-mech'), np.str_('math.DS'), np.str_('cs.CC'), np.str_('68T05'), np.str_('quant-ph'), np.str_('physics.data-an'), np.str_('I.4.6'), np.str_('physics.soc-ph'), np.str_('physics.ao-ph'), np.str_('q-bio.GN'), np.str_('econ.EM'), np.str_('cs.DM'), np.str_('physics.med-ph'), np.str_('astro-ph.IM'), np.str_('I.4.8'), np.str_('math.AT'), np.str_('cs.PF'), np.str_('cs.FL'), np.str_('I.4'), np.str_('q-fin.TR'), np.str_('I.5.4'), np.str_('I.2'), np.str_('68U10'), np.str_('physics.geo-ph'), np.str_('hep-ex'), np.str_('cond-mat.mtrl-sci'), np.str_('68T10'), np.str_('physics.optics'), np.str_('physics.flu-dyn'), np.str_('math.CO'), np.str_('math.AP'), np.str_('I.4; I.5'), np.str_('I.4.9'), np.str_('I.2.6; I.2.8'), np.str_('68T01'), np.str_('65D19'), np.str_('q-fin.CP'), np.str_('nlin.CD'), np.str_('cs.MS'), np.str_('I.2.6; I.5.1'), np.str_('I.2.10; I.4; I.5'), np.str_('I.2.0; I.2.6'), np.str_('68T07'), np.str_('cs.SC'), np.str_('cs.ET'), np.str_('K.3.2'), np.str_('I.2.8'), np.str_('68U01'), np.str_('68T30'), np.str_('68'), np.str_('q-fin.GN'), np.str_('q-fin.EC'), np.str_('q-bio.MN'), np.str_('econ.GN'), np.str_('I.4.9; I.5.4'), np.str_('I.4.5'), np.str_('I.2; I.5'), np.str_('I.2; I.4; I.5'), np.str_('I.2.6; I.2.7'), np.str_('I.2.10; I.4.8'), np.str_('68T99'), np.str_('68Q32'), np.str_('62H30'), np.str_('q-fin.RM'), np.str_('q-fin.PM'), np.str_('q-bio.TO'), np.str_('q-bio.OT'), np.str_('physics.bio-ph'), np.str_('nlin.AO'), np.str_('math.LO'), np.str_('math.FA'), np.str_('hep-ph'), np.str_('cond-mat.soft'), np.str_('I.4.6; I.4.8'), np.str_('I.4.4'), np.str_('I.4.3'), np.str_('I.4.0'), np.str_('I.2; J.2'), np.str_('I.2; I.2.6; I.2.7'), np.str_('I.2.7'), np.str_('I.2.6; I.5.4'), np.str_('I.2.6; I.2.9'), np.str_('I.2.6; I.2.7; H.3.1; H.3.3'), np.str_('I.2.6; I.2.10'), np.str_('I.2.6, I.5.4'), np.str_('I.2.1; J.3'), np.str_('I.2.10; I.5.1; I.4.8'), np.str_('I.2.10; I.4.8; I.5.4'), np.str_('I.2.10; I.2.6'), np.str_('I.2.1'), np.str_('H.3.1; I.2.6; I.2.7'), np.str_('H.3.1; H.3.3; I.2.6; I.2.7'), np.str_('G.3'), np.str_('F.2.2; I.2.7'), np.str_('E.5; E.4; E.2; H.1.1; F.1.1; F.1.3'), np.str_('68Txx'), np.str_('62H99'), np.str_('62H35'), np.str_('14J60 (Primary) 14F05, 14J26 (Secondary)')]\n"
          ]
        }
      ],
      "source": [
        "# creates a TensorFlow RaggedTensor (terms) from the values in the \"terms\" column of the train_df DataFrame. A RaggedTensor is a tensor with non-uniform shapes\n",
        "terms = tf.ragged.constant(train_df['terms'].values)\n",
        "# This line creates a StringLookup layer in TensorFlow. The purpose of this layer is to map strings to integer indices and vice versa. The output_mode=\"multi_hot\" indicates that the layer will output a multi-hot encoded representation of the input strings.\n",
        "lookup = tf.keras.layers.StringLookup(output_mode='multi_hot')\n",
        "# This step adapts the StringLookup layer to the unique values in the \"terms\" column, building the vocabulary.\n",
        "lookup.adapt(terms)\n",
        "# retrieve vocabulary\n",
        "vocab = lookup.get_vocabulary()\n",
        "\n",
        "print(\"Vocabulary:\\n\")\n",
        "print(vocab)"
      ]
    },
    {
      "cell_type": "code",
      "execution_count": 27,
      "id": "bd32a8c9",
      "metadata": {
        "colab": {
          "base_uri": "https://localhost:8080/"
        },
        "id": "bd32a8c9",
        "outputId": "9ea315a3-1fc2-4346-9544-f45556302148"
      },
      "outputs": [
        {
          "output_type": "stream",
          "name": "stdout",
          "text": [
            "Original label: ['stat.ML', 'cs.LG']\n",
            "Label-binarized representation: [[0 0 1 1 0 0 0 0 0 0 0 0 0 0 0 0 0 0 0 0 0 0 0 0 0 0 0 0 0 0 0 0 0 0 0 0\n",
            "  0 0 0 0 0 0 0 0 0 0 0 0 0 0 0 0 0 0 0 0 0 0 0 0 0 0 0 0 0 0 0 0 0 0 0 0\n",
            "  0 0 0 0 0 0 0 0 0 0 0 0 0 0 0 0 0 0 0 0 0 0 0 0 0 0 0 0 0 0 0 0 0 0 0 0\n",
            "  0 0 0 0 0 0 0 0 0 0 0 0 0 0 0 0 0 0 0 0 0 0 0 0 0 0 0 0 0 0 0 0 0 0 0 0\n",
            "  0 0 0 0 0 0 0 0 0]]\n"
          ]
        }
      ],
      "source": [
        "sample_label = train_df[\"terms\"].iloc[0]\n",
        "print(f\"Original label: {sample_label}\")\n",
        "\n",
        "label_binarized = lookup([sample_label])\n",
        "print(f\"Label-binarized representation: {label_binarized}\")"
      ]
    },
    {
      "cell_type": "code",
      "execution_count": 32,
      "id": "120e17de",
      "metadata": {
        "colab": {
          "base_uri": "https://localhost:8080/",
          "height": 71
        },
        "id": "120e17de",
        "outputId": "30e37657-a62f-42d1-aaf9-26e517029924"
      },
      "outputs": [
        {
          "output_type": "execute_result",
          "data": {
            "text/plain": [
              "'\\nIn summary, the make_dataset function is designed to create a \\ndataset suitable for training a model. It takes a dataframe as input, \\nassumes it has \"abstracts\" and \"terms\" columns, and creates a dataset of \\nbatches where each batch consists of abstract \\nsequences and their corresponding binarized label sequences. \\n'"
            ],
            "application/vnd.google.colaboratory.intrinsic+json": {
              "type": "string"
            }
          },
          "metadata": {},
          "execution_count": 32
        }
      ],
      "source": [
        "# following lines::\n",
        "# which is used for automatic adjustment of resource usage by TensorFlow's data loading pipeline.\n",
        "\n",
        "#max_seqlen: Maximum sequence length. It indicates the maximum length allowed for sequences.\n",
        "max_seqlen = 150\n",
        "#batch_size: Batch size. It specifies the number of samples to use in each iteration.\n",
        "batch_size = 128\n",
        "#padding_token: A token used for padding sequences.\n",
        "padding_token = \"<pad>\"\n",
        "#auto = tf.data.AUTOTUNE: auto is assigned the value tf.data.AUTOTUNE,\n",
        "auto = tf.data.AUTOTUNE\n",
        "\n",
        "def make_dataset(dataframe, is_train=True):\n",
        "    # creating sequences of labesls\n",
        "    labels = tf.ragged.constant(dataframe[\"terms\"].values)\n",
        "    #This line uses the previously defined lookup layer to convert the ragged tensor of labels into a binarized representation. The resulting label_binarized is a NumPy array.\n",
        "    label_binarized = lookup(labels).numpy()\n",
        "    # creating sequences of text.\n",
        "    dataset = tf.data.Dataset.from_tensor_slices((dataframe[\"summaries\"].values, label_binarized))\n",
        "    # shuffling data basis on condition\n",
        "    dataset = dataset.shuffle(batch_size * 10) if is_train else dataset\n",
        "    return dataset.batch(batch_size)\n",
        "\n",
        "\"\"\"\n",
        "In summary, the make_dataset function is designed to create a\n",
        "dataset suitable for training a model. It takes a dataframe as input,\n",
        "assumes it has \"abstracts\" and \"terms\" columns, and creates a dataset of\n",
        "batches where each batch consists of abstract\n",
        "sequences and their corresponding binarized label sequences.\n",
        "\"\"\""
      ]
    },
    {
      "cell_type": "code",
      "execution_count": 33,
      "id": "6c36ee52",
      "metadata": {
        "id": "6c36ee52"
      },
      "outputs": [],
      "source": [
        "train_dataset = make_dataset(train_df, is_train=True)\n",
        "validation_dataset = make_dataset(val_df, is_train=False)\n",
        "test_dataset = make_dataset(test_df, is_train=False)"
      ]
    },
    {
      "cell_type": "code",
      "source": [
        "def invert_multi_hot(encoded_labels):\n",
        "  hot_indices = np.argwhere(encoded_labels == 1.0)[..., 0]\n",
        "  return np.take(vocab, hot_indices)"
      ],
      "metadata": {
        "id": "aj3iIoYwVV_s"
      },
      "id": "aj3iIoYwVV_s",
      "execution_count": 40,
      "outputs": []
    },
    {
      "cell_type": "code",
      "execution_count": 41,
      "id": "d409c7bf",
      "metadata": {
        "colab": {
          "base_uri": "https://localhost:8080/"
        },
        "id": "d409c7bf",
        "outputId": "ddd2d7bb-7d8b-49af-a663-0fe300a51f20"
      },
      "outputs": [
        {
          "output_type": "stream",
          "name": "stdout",
          "text": [
            "Abstract: b'We present a novel approach to category-level 6D object pose and size\\nestimation. To tackle intra-class shape variations, we learn canonical shape\\nspace (CASS), a unified representation for a large variety of instances of a\\ncertain object category. In particular, CASS is modeled as the latent space of\\na deep generative model of canonical 3D shapes with normalized pose. We train a\\nvariational auto-encoder (VAE) for generating 3D point clouds in the canonical\\nspace from an RGBD image. The VAE is trained in a cross-category fashion,\\nexploiting the publicly available large 3D shape repositories. Since the 3D\\npoint cloud is generated in normalized pose (with actual size), the encoder of\\nthe VAE learns view-factorized RGBD embedding. It maps an RGBD image in\\narbitrary view into a pose-independent 3D shape representation. Object pose is\\nthen estimated via contrasting it with a pose-dependent feature of the input\\nRGBD extracted with a separate deep neural networks. We integrate the learning\\nof CASS and pose and size estimation into an end-to-end trainable network,\\nachieving the state-of-the-art performance.'\n",
            "Label(s): ['cs.CV']\n",
            " \n",
            "Abstract: b'Variational mutual information (MI) estimators are widely used in\\nunsupervised representation learning methods such as contrastive predictive\\ncoding (CPC). A lower bound on MI can be obtained from a multi-class\\nclassification problem, where a critic attempts to distinguish a positive\\nsample drawn from the underlying joint distribution from $(m-1)$ negative\\nsamples drawn from a suitable proposal distribution. Using this approach, MI\\nestimates are bounded above by $\\\\log m$, and could thus severely underestimate\\nunless $m$ is very large. To overcome this limitation, we introduce a novel\\nestimator based on a multi-label classification problem, where the critic needs\\nto jointly identify multiple positive samples at the same time. We show that\\nusing the same amount of negative samples, multi-label CPC is able to exceed\\nthe $\\\\log m$ bound, while still being a valid lower bound of mutual\\ninformation. We demonstrate that the proposed approach is able to lead to\\nbetter mutual information estimation, gain empirical improvements in\\nunsupervised representation learning, and beat a current state-of-the-art\\nknowledge distillation method over 10 out of 13 tasks.'\n",
            "Label(s): ['cs.LG' 'stat.ML']\n",
            " \n",
            "Abstract: b'What makes an image appear realistic? In this work, we are answering this\\nquestion from a data-driven perspective by learning the perception of visual\\nrealism directly from large amounts of data. In particular, we train a\\nConvolutional Neural Network (CNN) model that distinguishes natural photographs\\nfrom automatically generated composite images. The model learns to predict\\nvisual realism of a scene in terms of color, lighting and texture\\ncompatibility, without any human annotations pertaining to it. Our model\\noutperforms previous works that rely on hand-crafted heuristics, for the task\\nof classifying realistic vs. unrealistic photos. Furthermore, we apply our\\nlearned model to compute optimal parameters of a compositing method, to\\nmaximize the visual realism score predicted by our CNN model. We demonstrate\\nits advantage against existing methods via a human perception study.'\n",
            "Label(s): ['cs.CV']\n",
            " \n",
            "Abstract: b'High-level understanding of stories in video such as movies and TV shows from\\nraw data is extremely challenging. Modern video question answering (VideoQA)\\nsystems often use additional human-made sources like plot synopses, scripts,\\nvideo descriptions or knowledge bases. In this work, we present a new approach\\nto understand the whole story without such external sources. The secret lies in\\nthe dialog: unlike any prior work, we treat dialog as a noisy source to be\\nconverted into text description via dialog summarization, much like recent\\nmethods treat video. The input of each modality is encoded by transformers\\nindependently, and a simple fusion method combines all modalities, using soft\\ntemporal attention for localization over long inputs. Our model outperforms the\\nstate of the art on the KnowIT VQA dataset by a large margin, without using\\nquestion-specific human annotation or human-made plot summaries. It even\\noutperforms human evaluators who have never watched any whole episode before.\\nCode is available at https://engindeniz.github.io/dialogsummary-videoqa'\n",
            "Label(s): ['cs.CV']\n",
            " \n",
            "Abstract: b'Generative Adversarial networks (GANs) have obtained remarkable success in\\nmany unsupervised learning tasks and unarguably, clustering is an important\\nunsupervised learning problem. While one can potentially exploit the\\nlatent-space back-projection in GANs to cluster, we demonstrate that the\\ncluster structure is not retained in the GAN latent space.\\n  In this paper, we propose ClusterGAN as a new mechanism for clustering using\\nGANs. By sampling latent variables from a mixture of one-hot encoded variables\\nand continuous latent variables, coupled with an inverse network (which\\nprojects the data to the latent space) trained jointly with a clustering\\nspecific loss, we are able to achieve clustering in the latent space. Our\\nresults show a remarkable phenomenon that GANs can preserve latent space\\ninterpolation across categories, even though the discriminator is never exposed\\nto such vectors. We compare our results with various clustering baselines and\\ndemonstrate superior performance on both synthetic and real datasets.'\n",
            "Label(s): ['cs.LG' 'stat.ML']\n",
            " \n"
          ]
        }
      ],
      "source": [
        "# This code snippet is iterating through batches of the training dataset and printing the abstract text along with the corresponding labels.\n",
        "text_batch, label_batch = next(iter(train_dataset))\n",
        "for i, text in enumerate(text_batch[:5]):\n",
        "    label = label_batch[i].numpy()[None, ...]\n",
        "    print(f\"Abstract: {text}\")\n",
        "    print(f\"Label(s): {invert_multi_hot(label[0])}\")\n",
        "    print(\" \")"
      ]
    },
    {
      "cell_type": "code",
      "execution_count": 43,
      "id": "3881b07a",
      "metadata": {
        "colab": {
          "base_uri": "https://localhost:8080/"
        },
        "id": "3881b07a",
        "outputId": "50743617-b0b2-4596-81a7-489b08348090"
      },
      "outputs": [
        {
          "output_type": "stream",
          "name": "stdout",
          "text": [
            "153614\n"
          ]
        }
      ],
      "source": [
        "# This code calculates the size of the vocabulary in the \"abstracts\" column of the train_df DataFrame.\n",
        "\n",
        "# Creating vocabulary with uniques words\n",
        "vocabulary = set()\n",
        "train_df[\"summaries\"].str.lower().str.split().apply(vocabulary.update)\n",
        "vocabulary_size = len(vocabulary)\n",
        "print(vocabulary_size)"
      ]
    },
    {
      "cell_type": "markdown",
      "id": "4f8c291e",
      "metadata": {
        "id": "4f8c291e"
      },
      "source": [
        "# Text Vectorization"
      ]
    },
    {
      "cell_type": "code",
      "execution_count": 44,
      "id": "13305e60",
      "metadata": {
        "id": "13305e60"
      },
      "outputs": [],
      "source": [
        "# Initializes a TextVectorization layer\n",
        "text_vectorizer = layers.TextVectorization(max_tokens=vocabulary_size,ngrams=2,output_mode=\"tf_idf\")\n",
        "# `TextVectorization` layer needs to be adapted as per the vocabulary from our\n",
        "# training set.\n",
        "text_vectorizer.adapt(train_dataset.map(lambda text, label: text))"
      ]
    },
    {
      "cell_type": "code",
      "execution_count": 45,
      "id": "6b82682c",
      "metadata": {
        "id": "6b82682c"
      },
      "outputs": [],
      "source": [
        "\"\"\"\n",
        "Mapping Vectorization to Datasets: The code maps the text vectorization operation to\n",
        "each element of the training, validation, and test datasets. This ensures that the text\n",
        "data in each dataset is transformed into numerical vectors using the adapted TextVectorization layer.\n",
        "The num_parallel_calls parameter is used to parallelize the mapping process, and prefetch is\n",
        "applied to prefetch data batches\n",
        "for better performance.\n",
        "\"\"\"\n",
        "train_dataset = train_dataset.map(lambda text, label: (text_vectorizer(text), label), num_parallel_calls=auto).prefetch(auto)\n",
        "validation_dataset = validation_dataset.map(lambda text, label: (text_vectorizer(text), label), num_parallel_calls=auto).prefetch(auto)\n",
        "test_dataset = test_dataset.map(lambda text, label: (text_vectorizer(text), label), num_parallel_calls=auto).prefetch(auto)"
      ]
    },
    {
      "cell_type": "markdown",
      "id": "85485df2",
      "metadata": {
        "id": "85485df2"
      },
      "source": [
        "# model training"
      ]
    },
    {
      "cell_type": "code",
      "source": [
        "from google.colab import drive\n",
        "drive.mount('/content/drive')"
      ],
      "metadata": {
        "colab": {
          "base_uri": "https://localhost:8080/"
        },
        "id": "G9-P5NaxZlVF",
        "outputId": "48e355c3-1cf4-4ae3-b732-cbc765e986d2"
      },
      "id": "G9-P5NaxZlVF",
      "execution_count": 48,
      "outputs": [
        {
          "output_type": "stream",
          "name": "stdout",
          "text": [
            "Mounted at /content/drive\n"
          ]
        }
      ]
    },
    {
      "cell_type": "code",
      "execution_count": 59,
      "id": "1595fa1d",
      "metadata": {
        "scrolled": true,
        "colab": {
          "base_uri": "https://localhost:8080/"
        },
        "id": "1595fa1d",
        "outputId": "8e76a2c9-9e12-4a75-80e0-edc17b89d293"
      },
      "outputs": [
        {
          "output_type": "stream",
          "name": "stdout",
          "text": [
            "Epoch 1/20\n",
            "\u001b[1m258/258\u001b[0m \u001b[32m━━━━━━━━━━━━━━━━━━━━\u001b[0m\u001b[37m\u001b[0m \u001b[1m49s\u001b[0m 168ms/step - binary_accuracy: 0.9436 - loss: 0.1315 - val_binary_accuracy: 0.9944 - val_loss: 0.0196\n",
            "Epoch 2/20\n",
            "\u001b[1m258/258\u001b[0m \u001b[32m━━━━━━━━━━━━━━━━━━━━\u001b[0m\u001b[37m\u001b[0m \u001b[1m94s\u001b[0m 220ms/step - binary_accuracy: 0.9943 - loss: 0.0204 - val_binary_accuracy: 0.9943 - val_loss: 0.0191\n",
            "Epoch 3/20\n",
            "\u001b[1m258/258\u001b[0m \u001b[32m━━━━━━━━━━━━━━━━━━━━\u001b[0m\u001b[37m\u001b[0m \u001b[1m69s\u001b[0m 173ms/step - binary_accuracy: 0.9955 - loss: 0.0153 - val_binary_accuracy: 0.9943 - val_loss: 0.0192\n",
            "Epoch 4/20\n",
            "\u001b[1m258/258\u001b[0m \u001b[32m━━━━━━━━━━━━━━━━━━━━\u001b[0m\u001b[37m\u001b[0m \u001b[1m46s\u001b[0m 178ms/step - binary_accuracy: 0.9962 - loss: 0.0125 - val_binary_accuracy: 0.9944 - val_loss: 0.0202\n",
            "Epoch 5/20\n",
            "\u001b[1m258/258\u001b[0m \u001b[32m━━━━━━━━━━━━━━━━━━━━\u001b[0m\u001b[37m\u001b[0m \u001b[1m77s\u001b[0m 159ms/step - binary_accuracy: 0.9968 - loss: 0.0106 - val_binary_accuracy: 0.9943 - val_loss: 0.0203\n",
            "Epoch 6/20\n",
            "\u001b[1m258/258\u001b[0m \u001b[32m━━━━━━━━━━━━━━━━━━━━\u001b[0m\u001b[37m\u001b[0m \u001b[1m93s\u001b[0m 201ms/step - binary_accuracy: 0.9972 - loss: 0.0093 - val_binary_accuracy: 0.9944 - val_loss: 0.0213\n",
            "Epoch 7/20\n",
            "\u001b[1m258/258\u001b[0m \u001b[32m━━━━━━━━━━━━━━━━━━━━\u001b[0m\u001b[37m\u001b[0m \u001b[1m72s\u001b[0m 160ms/step - binary_accuracy: 0.9975 - loss: 0.0084 - val_binary_accuracy: 0.9944 - val_loss: 0.0221\n"
          ]
        }
      ],
      "source": [
        "import tensorflow as tf\n",
        "from tensorflow import keras\n",
        "from tensorflow.keras import layers\n",
        "from tensorflow.keras.callbacks import EarlyStopping, ModelCheckpoint\n",
        "from google.colab import drive\n",
        "# --- (Your model definition code remains the same) ---\n",
        "model1 = keras.Sequential([\n",
        "    layers.Dense(512, activation=\"relu\"),\n",
        "    layers.Dropout(0.5),\n",
        "    layers.Dense(256, activation=\"relu\"),\n",
        "    layers.Dropout(0.5),\n",
        "    layers.Dense(lookup.vocabulary_size(), activation='sigmoid')\n",
        "])\n",
        "\n",
        "model1.compile(loss=\"binary_crossentropy\", optimizer='adam', metrics=['binary_accuracy'])\n",
        "# --- (End of your model definition) ---\n",
        "\n",
        "# 2. Define Callbacks\n",
        "early_stopping = EarlyStopping(patience=5, restore_best_weights=True)\n",
        "\n",
        "# Define the path in your Google Drive\n",
        "model_save_path = '/content/drive/My Drive/Colab Notebooks/my_best_model.keras'\n",
        "\n",
        "# Save the model every 500 batches/steps\n",
        "checkpoint_callback = ModelCheckpoint(\n",
        "    filepath=model_save_path,\n",
        "    monitor='val_loss',\n",
        "    save_best_only=True,\n",
        "    save_freq=500,  # <-- ADD THIS LINE\n",
        "    verbose=1\n",
        ")\n",
        "\n",
        "# Then run your fit command as before\n",
        "history = model1.fit(\n",
        "    train_dataset,\n",
        "    validation_data=validation_dataset,\n",
        "    epochs=20,\n",
        "    callbacks=[early_stopping, checkpoint_callback]\n",
        ")\n"
      ]
    },
    {
      "cell_type": "code",
      "execution_count": 60,
      "id": "1ccc3be2",
      "metadata": {
        "scrolled": true,
        "colab": {
          "base_uri": "https://localhost:8080/",
          "height": 929
        },
        "id": "1ccc3be2",
        "outputId": "7d8f2ed0-23de-46f2-9897-cc01d066184d"
      },
      "outputs": [
        {
          "output_type": "display_data",
          "data": {
            "text/plain": [
              "<Figure size 640x480 with 1 Axes>"
            ],
            "image/png": "[encoded data removed]"
          },
          "metadata": {}
        },
        {
          "output_type": "display_data",
          "data": {
            "text/plain": [
              "<Figure size 640x480 with 1 Axes>"
            ],
            "image/png": "[encoded data removed]"
          },
          "metadata": {}
        }
      ],
      "source": [
        "# plotting loss\n",
        "def plot_result(item):\n",
        "    plt.plot(history.history[item], label=item)\n",
        "    plt.plot(history.history[\"val_\" + item], label=\"val_\" + item)\n",
        "    plt.xlabel(\"Epochs\")\n",
        "    plt.ylabel(item)\n",
        "    plt.title(\"Train and Validation {} Over Epochs\".format(item), fontsize=14)\n",
        "    plt.legend()\n",
        "    plt.grid()\n",
        "    plt.show()\n",
        "\n",
        "\n",
        "plot_result(\"loss\")\n",
        "plot_result(\"binary_accuracy\")"
      ]
    },
    {
      "cell_type": "markdown",
      "id": "9864d7ce",
      "metadata": {
        "id": "9864d7ce"
      },
      "source": [
        "# Model Evaluation"
      ]
    },
    {
      "cell_type": "code",
      "source": [
        "print(test_dataset)"
      ],
      "metadata": {
        "id": "tH3-wdBjkORL",
        "outputId": "17e03ea4-4e13-4b14-cfbe-54fafec11789",
        "colab": {
          "base_uri": "https://localhost:8080/"
        }
      },
      "id": "tH3-wdBjkORL",
      "execution_count": 74,
      "outputs": [
        {
          "output_type": "stream",
          "name": "stdout",
          "text": [
            "<_PrefetchDataset element_spec=(TensorSpec(shape=(None, 153614), dtype=tf.float32, name=None), TensorSpec(shape=(None, 153), dtype=tf.int64, name=None))>\n"
          ]
        }
      ]
    },
    {
      "cell_type": "code",
      "execution_count": 61,
      "id": "cebc1c9c",
      "metadata": {
        "colab": {
          "base_uri": "https://localhost:8080/"
        },
        "id": "cebc1c9c",
        "outputId": "8db7a8c5-27e0-43d5-ecac-ef0383224d68"
      },
      "outputs": [
        {
          "output_type": "stream",
          "name": "stdout",
          "text": [
            "\u001b[1m15/15\u001b[0m \u001b[32m━━━━━━━━━━━━━━━━━━━━\u001b[0m\u001b[37m\u001b[0m \u001b[1m2s\u001b[0m 115ms/step - binary_accuracy: 0.9943 - loss: 0.0186\n",
            "\u001b[1m15/15\u001b[0m \u001b[32m━━━━━━━━━━━━━━━━━━━━\u001b[0m\u001b[37m\u001b[0m \u001b[1m2s\u001b[0m 117ms/step - binary_accuracy: 0.9944 - loss: 0.0192\n",
            "Categorical accuracy on the test set: 99.42%.\n",
            "Categorical accuracy on the validation set: 99.43%.\n"
          ]
        }
      ],
      "source": [
        "# model evaltuation on test and val dataset\n",
        "_, binary_acc1 = model1.evaluate(test_dataset)\n",
        "_, binary_acc2 = model1.evaluate(validation_dataset)\n",
        "\n",
        "print(f\"Categorical accuracy on the test set: {round(binary_acc1 * 100, 2)}%.\")\n",
        "print(f\"Categorical accuracy on the validation set: {round(binary_acc2 * 100, 2)}%.\")"
      ]
    },
    {
      "cell_type": "code",
      "source": [
        "# --- 1. Get Per-Sample Predictions using model.predict() ---\n",
        "y_pred_probs = model1.predict(test_dataset)\n",
        "# Convert prediction probabilities to single class labels (e.g., [0, 4, 1, ...])\n",
        "y_pred = np.argmax(y_pred_probs, axis=1)\n",
        "\n",
        "# --- 2. Get the corresponding True Labels ---\n",
        "# Extract the one-hot encoded true labels from the dataset\n",
        "y_true_one_hot = np.concatenate([y for x, y in test_dataset], axis=0)\n",
        "# Convert true labels to the same format as predictions\n",
        "y_true = np.argmax(y_true_one_hot, axis=1)"
      ],
      "metadata": {
        "id": "UpsORN5mhGhK",
        "outputId": "fe74f777-907d-4526-913b-f5ee03f9b00d",
        "colab": {
          "base_uri": "https://localhost:8080/"
        }
      },
      "id": "UpsORN5mhGhK",
      "execution_count": 68,
      "outputs": [
        {
          "output_type": "stream",
          "name": "stdout",
          "text": [
            "\u001b[1m15/15\u001b[0m \u001b[32m━━━━━━━━━━━━━━━━━━━━\u001b[0m\u001b[37m\u001b[0m \u001b[1m2s\u001b[0m 124ms/step\n"
          ]
        }
      ]
    },
    {
      "cell_type": "code",
      "source": [
        "import numpy as np\n",
        "import seaborn as sns\n",
        "import matplotlib.pyplot as plt\n",
        "import tensorflow as tf\n",
        "from sklearn.metrics import classification_report, confusion_matrix\n",
        "\n",
        "# ==============================================================================\n",
        "# --- 1. USER SETUP: PLEASE PROVIDE YOUR MODEL, DATASETS, AND CLASS NAMES ---\n",
        "# ==============================================================================\n",
        "\n",
        "# This script assumes you have the following variables already loaded and available:\n",
        "\n",
        "# model: Your trained TensorFlow/Keras model.\n",
        "# e.g., model = tf.keras.models.load_model('my_classifier.h5')\n",
        "model = model1 # <-- REPLACE WITH YOUR TRAINED MODEL\n",
        "\n",
        "# test_dataset: Your preprocessed tf.data.Dataset for testing.\n",
        "test_dataset = test_dataset # <-- REPLACE WITH YOUR TEST DATASET\n",
        "\n",
        "# validation_dataset: Your preprocessed tf.data.Dataset for validation.\n",
        "validation_dataset = validation_dataset # <-- REPLACE WITH YOUR VALIDATION DATASET\n",
        "\n",
        "# class_names: A list of strings containing the names of your classes in order.\n",
        "# e.g., class_names = ['cs.AI', 'cs.CV', 'cs.LG', 'cs.CL', ...]\n",
        "class_names = arxiv_data['terms'].unique() # <-- REPLACE WITH YOUR LIST OF CLASS NAMES\n",
        "\n",
        "# --- Sanity check to ensure placeholders are filled ---\n",
        "if model is None or test_dataset is None or validation_dataset is None or not class_names:\n",
        "    print(\"Please fill in the placeholder variables (model, test_dataset, etc.) before running.\")\n",
        "else:\n",
        "    # ==============================================================================\n",
        "    # --- 2. OVERALL ACCURACY EVALUATION ---\n",
        "    # ==============================================================================\n",
        "    print(\"--- 2. Calculating Overall Accuracy ---\")\n",
        "    _, test_acc = model.evaluate(test_dataset, verbose=0)\n",
        "    _, val_acc = model.evaluate(validation_dataset, verbose=0)\n",
        "\n",
        "    print(f\"\\nCategorical accuracy on the test set: {round(test_acc * 100, 2)}%.\")\n",
        "    print(f\"Categorical accuracy on the validation set: {round(val_acc * 100, 2)}%.\\n\")\n",
        "\n",
        "\n",
        "    # ==============================================================================\n",
        "    # --- 3. PREPARING PREDICTIONS FOR DETAILED ANALYSIS ---\n",
        "    # ==============================================================================\n",
        "    print(\"--- 3. Generating predictions for detailed analysis ---\")\n",
        "    # Get the model's prediction probabilities\n",
        "    y_pred_probs = model.predict(test_dataset)\n",
        "\n",
        "    # Convert probabilities to class indices (the predicted class)\n",
        "    y_pred = np.argmax(y_pred_probs, axis=1)\n",
        "\n",
        "    # Get the true labels from the test dataset\n",
        "    y_true_one_hot = np.concatenate([y for x, y in test_dataset], axis=0)\n",
        "\n",
        "    # Convert one-hot encoded true labels to class indices\n",
        "    y_true = np.argmax(y_true_one_hot, axis=1)\n",
        "    print(\"Predictions and true labels are ready.\\n\")\n",
        "\n",
        "\n",
        "    # ==============================================================================\n",
        "    # --- 4. DETAILED CLASSIFICATION REPORT (PRECISION, RECALL, F1-SCORE) ---\n",
        "    # ==============================================================================\n",
        "    print(\"--- 4. Detailed Classification Report ---\")\n",
        "    print(classification_report(y_true, y_pred, target_names=class_names, zero_division=0))\n",
        "\n",
        "\n",
        "    # ==============================================================================\n",
        "    # --- 5. CONFUSION MATRIX VISUALIZATION ---\n",
        "    # ==============================================================================\n",
        "    print(\"--- 5. Generating Confusion Matrix ---\")\n",
        "    cm = confusion_matrix(y_true, y_pred)\n",
        "\n",
        "    plt.figure(figsize=(12, 10))\n",
        "    sns.heatmap(cm, annot=True, fmt='d', cmap='Blues',\n",
        "                xticklabels=class_names,\n",
        "                yticklabels=class_names)\n",
        "    plt.title('Confusion Matrix', fontsize=16)\n",
        "    plt.ylabel('True Label', fontsize=12)\n",
        "    plt.xlabel('Predicted Label', fontsize=12)\n",
        "    plt.show()\n",
        "    print(\"Displayed the confusion matrix plot.\\n\")\n",
        "\n",
        "\n",
        "    # ==============================================================================\n",
        "    # --- 6. PER-CLASS METRICS (TP, TN, FP, FN) ---\n",
        "    # ==============================================================================\n",
        "    print(\"--- 6. Calculating TP, TN, FP, FN for Each Class ---\")\n",
        "    for i, class_name in enumerate(class_names):\n",
        "        # True Positives (TP): The diagonal element\n",
        "        tp = cm[i, i]\n",
        "\n",
        "        # False Positives (FP): The sum of the column, excluding the diagonal\n",
        "        fp = cm[:, i].sum() - tp\n",
        "\n",
        "        # False Negatives (FN): The sum of the row, excluding the diagonal\n",
        "        fn = cm[i, :].sum() - tp\n",
        "\n",
        "        # True Negatives (TN): The sum of all other cells\n",
        "        tn = cm.sum() - (tp + fp + fn)\n",
        "\n",
        "        print(f\"--- Metrics for class: {class_name} ---\")\n",
        "        print(f\"True Positives:  {tp}\")\n",
        "        print(f\"True Negatives:  {tn}\")\n",
        "        print(f\"False Positives: {fp}\")\n",
        "        print(f\"False Negatives: {fn}\\n\")"
      ],
      "metadata": {
        "id": "jrD2MGCukDX_",
        "outputId": "f16556b7-3174-443a-ac6c-40ab05ed2cea",
        "colab": {
          "base_uri": "https://localhost:8080/",
          "height": 752
        }
      },
      "id": "jrD2MGCukDX_",
      "execution_count": 80,
      "outputs": [
        {
          "output_type": "stream",
          "name": "stdout",
          "text": [
            "--- Metrics for class: cs.AI ---\n",
            "True Positives:  957\n",
            "True Negatives:  718\n",
            "False Positives: 50\n",
            "False Negatives: 108\n",
            "\n",
            "--- Metrics for class: cs.CV ---\n",
            "True Positives:  706\n",
            "True Negatives:  959\n",
            "False Positives: 116\n",
            "False Negatives: 52\n",
            "\n",
            "--- Metrics for class: cs.LG ---\n",
            "True Positives:  0\n",
            "True Negatives:  1823\n",
            "False Positives: 0\n",
            "False Negatives: 10\n",
            "\n",
            "--- Metrics for class: cs.CL ---\n",
            "True Positives:  0\n",
            "True Negatives:  1832\n",
            "False Positives: 1\n",
            "False Negatives: 0\n",
            "\n",
            "--- Metrics for class: cs.NE ---\n",
            "True Positives:  0\n",
            "True Negatives:  1830\n",
            "False Positives: 3\n",
            "False Negatives: 0\n",
            "\n"
          ]
        },
        {
          "output_type": "error",
          "ename": "IndexError",
          "evalue": "index 5 is out of bounds for axis 0 with size 5",
          "traceback": [
            "\u001b[0;31m---------------------------------------------------------------------------\u001b[0m",
            "\u001b[0;31mIndexError\u001b[0m                                Traceback (most recent call last)",
            "\u001b[0;32m/tmp/ipython-input-1176643319.py\u001b[0m in \u001b[0;36m<cell line: 0>\u001b[0;34m()\u001b[0m\n\u001b[1;32m     17\u001b[0m \u001b[0;32mfor\u001b[0m \u001b[0mi\u001b[0m\u001b[0;34m,\u001b[0m \u001b[0mclass_name\u001b[0m \u001b[0;32min\u001b[0m \u001b[0menumerate\u001b[0m\u001b[0;34m(\u001b[0m\u001b[0mclass_names\u001b[0m\u001b[0;34m)\u001b[0m\u001b[0;34m:\u001b[0m\u001b[0;34m\u001b[0m\u001b[0;34m\u001b[0m\u001b[0m\n\u001b[1;32m     18\u001b[0m     \u001b[0;31m# True Positives (TP): The diagonal element\u001b[0m\u001b[0;34m\u001b[0m\u001b[0;34m\u001b[0m\u001b[0m\n\u001b[0;32m---> 19\u001b[0;31m     \u001b[0mtp\u001b[0m \u001b[0;34m=\u001b[0m \u001b[0mcm\u001b[0m\u001b[0;34m[\u001b[0m\u001b[0mi\u001b[0m\u001b[0;34m,\u001b[0m \u001b[0mi\u001b[0m\u001b[0;34m]\u001b[0m\u001b[0;34m\u001b[0m\u001b[0;34m\u001b[0m\u001b[0m\n\u001b[0m\u001b[1;32m     20\u001b[0m \u001b[0;34m\u001b[0m\u001b[0m\n\u001b[1;32m     21\u001b[0m     \u001b[0;31m# False Positives (FP): The sum of the column, excluding the diagonal\u001b[0m\u001b[0;34m\u001b[0m\u001b[0;34m\u001b[0m\u001b[0m\n",
            "\u001b[0;31mIndexError\u001b[0m: index 5 is out of bounds for axis 0 with size 5"
          ]
        }
      ]
    },
    {
      "cell_type": "code",
      "source": [
        "import numpy as np\n",
        "\n",
        "# This assumes 'y_true' is your array of true integer labels\n",
        "# and 'class_names' is your list of class name strings.\n",
        "\n",
        "unique_classes, counts = np.unique(y_true, return_counts=True)\n",
        "\n",
        "print(\"Class distribution in the test set:\")\n",
        "for class_index, count in zip(unique_classes, counts):\n",
        "  # Make sure the class_index is within the bounds of your class_names list\n",
        "  if class_index < len(class_names):\n",
        "    print(f\"- {class_names[class_index]}: {count} samples\")\n",
        "  else:\n",
        "    print(f\"- Class Index {class_index}: {count} samples (Name not found)\")"
      ],
      "metadata": {
        "id": "Ze8rZR23lAJM",
        "outputId": "828d342b-7cc3-491b-a559-e07440a898c4",
        "colab": {
          "base_uri": "https://localhost:8080/"
        }
      },
      "id": "Ze8rZR23lAJM",
      "execution_count": 75,
      "outputs": [
        {
          "output_type": "stream",
          "name": "stdout",
          "text": [
            "Class distribution in the test set:\n",
            "- cs.CV: 1065 samples\n",
            "- cs.LG: 758 samples\n",
            "- cs.CL: 10 samples\n"
          ]
        }
      ]
    },
    {
      "cell_type": "code",
      "source": [
        "from sklearn.model_selection import train_test_split\n",
        "\n",
        "# Assume X is your feature data and y is your label data\n",
        "X_train, X_test, y_train, y_test = train_test_split(\n",
        "    X, y,\n",
        "    test_size=0.2,\n",
        "    stratify=y,  # This is the magic ingredient!\n",
        "    random_state=42\n",
        ")"
      ],
      "metadata": {
        "id": "DlcPO6FvlHa5",
        "outputId": "d58aef86-7e13-4e65-8065-76790c16ffc8",
        "colab": {
          "base_uri": "https://localhost:8080/",
          "height": 216
        }
      },
      "id": "DlcPO6FvlHa5",
      "execution_count": 78,
      "outputs": [
        {
          "output_type": "error",
          "ename": "NameError",
          "evalue": "name 'X' is not defined",
          "traceback": [
            "\u001b[0;31m---------------------------------------------------------------------------\u001b[0m",
            "\u001b[0;31mNameError\u001b[0m                                 Traceback (most recent call last)",
            "\u001b[0;32m/tmp/ipython-input-1663949280.py\u001b[0m in \u001b[0;36m<cell line: 0>\u001b[0;34m()\u001b[0m\n\u001b[1;32m      3\u001b[0m \u001b[0;31m# Assume X is your feature data and y is your label data\u001b[0m\u001b[0;34m\u001b[0m\u001b[0;34m\u001b[0m\u001b[0m\n\u001b[1;32m      4\u001b[0m X_train, X_test, y_train, y_test = train_test_split(\n\u001b[0;32m----> 5\u001b[0;31m     \u001b[0mX\u001b[0m\u001b[0;34m,\u001b[0m \u001b[0my\u001b[0m\u001b[0;34m,\u001b[0m\u001b[0;34m\u001b[0m\u001b[0;34m\u001b[0m\u001b[0m\n\u001b[0m\u001b[1;32m      6\u001b[0m     \u001b[0mtest_size\u001b[0m\u001b[0;34m=\u001b[0m\u001b[0;36m0.2\u001b[0m\u001b[0;34m,\u001b[0m\u001b[0;34m\u001b[0m\u001b[0;34m\u001b[0m\u001b[0m\n\u001b[1;32m      7\u001b[0m     \u001b[0mstratify\u001b[0m\u001b[0;34m=\u001b[0m\u001b[0my\u001b[0m\u001b[0;34m,\u001b[0m  \u001b[0;31m# This is the magic ingredient!\u001b[0m\u001b[0;34m\u001b[0m\u001b[0;34m\u001b[0m\u001b[0m\n",
            "\u001b[0;31mNameError\u001b[0m: name 'X' is not defined"
          ]
        }
      ]
    },
    {
      "cell_type": "markdown",
      "id": "16f447f1",
      "metadata": {
        "id": "16f447f1"
      },
      "source": [
        "# Save Model and Text Vectorizer:"
      ]
    },
    {
      "cell_type": "code",
      "execution_count": 57,
      "id": "4434b752",
      "metadata": {
        "colab": {
          "base_uri": "https://localhost:8080/",
          "height": 216
        },
        "id": "4434b752",
        "outputId": "5f9ac596-08dc-4681-c435-de1400f1a59f"
      },
      "outputs": [
        {
          "output_type": "error",
          "ename": "FileNotFoundError",
          "evalue": "[Errno 2] No such file or directory: 'models/text_vectorizer_config.pkl'",
          "traceback": [
            "\u001b[0;31m---------------------------------------------------------------------------\u001b[0m",
            "\u001b[0;31mFileNotFoundError\u001b[0m                         Traceback (most recent call last)",
            "\u001b[0;32m/tmp/ipython-input-2144742468.py\u001b[0m in \u001b[0;36m<cell line: 0>\u001b[0;34m()\u001b[0m\n\u001b[1;32m      6\u001b[0m \u001b[0;31m# Save the configuration of the text vectorizer\u001b[0m\u001b[0;34m\u001b[0m\u001b[0;34m\u001b[0m\u001b[0m\n\u001b[1;32m      7\u001b[0m \u001b[0msaved_text_vectorizer_config\u001b[0m \u001b[0;34m=\u001b[0m \u001b[0mtext_vectorizer\u001b[0m\u001b[0;34m.\u001b[0m\u001b[0mget_config\u001b[0m\u001b[0;34m(\u001b[0m\u001b[0;34m)\u001b[0m\u001b[0;34m\u001b[0m\u001b[0;34m\u001b[0m\u001b[0m\n\u001b[0;32m----> 8\u001b[0;31m \u001b[0;32mwith\u001b[0m \u001b[0mopen\u001b[0m\u001b[0;34m(\u001b[0m\u001b[0;34m\"models/text_vectorizer_config.pkl\"\u001b[0m\u001b[0;34m,\u001b[0m \u001b[0;34m\"wb\"\u001b[0m\u001b[0;34m)\u001b[0m \u001b[0;32mas\u001b[0m \u001b[0mf\u001b[0m\u001b[0;34m:\u001b[0m\u001b[0;34m\u001b[0m\u001b[0;34m\u001b[0m\u001b[0m\n\u001b[0m\u001b[1;32m      9\u001b[0m     \u001b[0mpickle\u001b[0m\u001b[0;34m.\u001b[0m\u001b[0mdump\u001b[0m\u001b[0;34m(\u001b[0m\u001b[0msaved_text_vectorizer_config\u001b[0m\u001b[0;34m,\u001b[0m \u001b[0mf\u001b[0m\u001b[0;34m)\u001b[0m\u001b[0;34m\u001b[0m\u001b[0;34m\u001b[0m\u001b[0m\n\u001b[1;32m     10\u001b[0m \u001b[0;34m\u001b[0m\u001b[0m\n",
            "\u001b[0;31mFileNotFoundError\u001b[0m: [Errno 2] No such file or directory: 'models/text_vectorizer_config.pkl'"
          ]
        }
      ],
      "source": [
        "from tensorflow import keras\n",
        "import pickle\n",
        "# # Save the model\n",
        "# model1.save(\"models/model.h5\")\n",
        "\n",
        "# Save the configuration of the text vectorizer\n",
        "saved_text_vectorizer_config = text_vectorizer.get_config()\n",
        "with open(\"models/text_vectorizer_config.pkl\", \"wb\") as f:\n",
        "    pickle.dump(saved_text_vectorizer_config, f)\n",
        "\n",
        "\n",
        "# Save the vocabulary\n",
        "with open(\"models/vocab.pkl\", \"wb\") as f:\n",
        "    pickle.dump(vocab, f)"
      ]
    },
    {
      "cell_type": "markdown",
      "id": "fceee66a",
      "metadata": {
        "id": "fceee66a"
      },
      "source": [
        "# Load Model and Text Vectorizer:"
      ]
    },
    {
      "cell_type": "code",
      "execution_count": 54,
      "id": "34e7d7f6",
      "metadata": {
        "colab": {
          "base_uri": "https://localhost:8080/",
          "height": 508
        },
        "id": "34e7d7f6",
        "outputId": "c155dd2e-c869-4896-ab7a-76e362cf76fd"
      },
      "outputs": [
        {
          "output_type": "error",
          "ename": "FileNotFoundError",
          "evalue": "[Errno 2] Unable to synchronously open file (unable to open file: name = 'models/model.h5', errno = 2, error message = 'No such file or directory', flags = 0, o_flags = 0)",
          "traceback": [
            "\u001b[0;31m---------------------------------------------------------------------------\u001b[0m",
            "\u001b[0;31mFileNotFoundError\u001b[0m                         Traceback (most recent call last)",
            "\u001b[0;32m/tmp/ipython-input-217872005.py\u001b[0m in \u001b[0;36m<cell line: 0>\u001b[0;34m()\u001b[0m\n\u001b[1;32m      3\u001b[0m \u001b[0;34m\u001b[0m\u001b[0m\n\u001b[1;32m      4\u001b[0m \u001b[0;31m# Load the model\u001b[0m\u001b[0;34m\u001b[0m\u001b[0;34m\u001b[0m\u001b[0m\n\u001b[0;32m----> 5\u001b[0;31m \u001b[0mloaded_model\u001b[0m \u001b[0;34m=\u001b[0m \u001b[0mkeras\u001b[0m\u001b[0;34m.\u001b[0m\u001b[0mmodels\u001b[0m\u001b[0;34m.\u001b[0m\u001b[0mload_model\u001b[0m\u001b[0;34m(\u001b[0m\u001b[0;34m\"models/model.h5\"\u001b[0m\u001b[0;34m)\u001b[0m\u001b[0;34m\u001b[0m\u001b[0;34m\u001b[0m\u001b[0m\n\u001b[0m\u001b[1;32m      6\u001b[0m \u001b[0;34m\u001b[0m\u001b[0m\n\u001b[1;32m      7\u001b[0m \u001b[0;32mfrom\u001b[0m \u001b[0mtensorflow\u001b[0m\u001b[0;34m.\u001b[0m\u001b[0mkeras\u001b[0m\u001b[0;34m.\u001b[0m\u001b[0mlayers\u001b[0m \u001b[0;32mimport\u001b[0m \u001b[0mTextVectorization\u001b[0m\u001b[0;34m\u001b[0m\u001b[0;34m\u001b[0m\u001b[0m\n",
            "\u001b[0;32m/usr/local/lib/python3.12/dist-packages/keras/src/saving/saving_api.py\u001b[0m in \u001b[0;36mload_model\u001b[0;34m(filepath, custom_objects, compile, safe_mode)\u001b[0m\n\u001b[1;32m    194\u001b[0m         )\n\u001b[1;32m    195\u001b[0m     \u001b[0;32mif\u001b[0m \u001b[0mstr\u001b[0m\u001b[0;34m(\u001b[0m\u001b[0mfilepath\u001b[0m\u001b[0;34m)\u001b[0m\u001b[0;34m.\u001b[0m\u001b[0mendswith\u001b[0m\u001b[0;34m(\u001b[0m\u001b[0;34m(\u001b[0m\u001b[0;34m\".h5\"\u001b[0m\u001b[0;34m,\u001b[0m \u001b[0;34m\".hdf5\"\u001b[0m\u001b[0;34m)\u001b[0m\u001b[0;34m)\u001b[0m\u001b[0;34m:\u001b[0m\u001b[0;34m\u001b[0m\u001b[0;34m\u001b[0m\u001b[0m\n\u001b[0;32m--> 196\u001b[0;31m         return legacy_h5_format.load_model_from_hdf5(\n\u001b[0m\u001b[1;32m    197\u001b[0m             \u001b[0mfilepath\u001b[0m\u001b[0;34m,\u001b[0m \u001b[0mcustom_objects\u001b[0m\u001b[0;34m=\u001b[0m\u001b[0mcustom_objects\u001b[0m\u001b[0;34m,\u001b[0m \u001b[0mcompile\u001b[0m\u001b[0;34m=\u001b[0m\u001b[0mcompile\u001b[0m\u001b[0;34m\u001b[0m\u001b[0;34m\u001b[0m\u001b[0m\n\u001b[1;32m    198\u001b[0m         )\n",
            "\u001b[0;32m/usr/local/lib/python3.12/dist-packages/keras/src/legacy/saving/legacy_h5_format.py\u001b[0m in \u001b[0;36mload_model_from_hdf5\u001b[0;34m(filepath, custom_objects, compile)\u001b[0m\n\u001b[1;32m    114\u001b[0m     \u001b[0mopened_new_file\u001b[0m \u001b[0;34m=\u001b[0m \u001b[0;32mnot\u001b[0m \u001b[0misinstance\u001b[0m\u001b[0;34m(\u001b[0m\u001b[0mfilepath\u001b[0m\u001b[0;34m,\u001b[0m \u001b[0mh5py\u001b[0m\u001b[0;34m.\u001b[0m\u001b[0mFile\u001b[0m\u001b[0;34m)\u001b[0m\u001b[0;34m\u001b[0m\u001b[0;34m\u001b[0m\u001b[0m\n\u001b[1;32m    115\u001b[0m     \u001b[0;32mif\u001b[0m \u001b[0mopened_new_file\u001b[0m\u001b[0;34m:\u001b[0m\u001b[0;34m\u001b[0m\u001b[0;34m\u001b[0m\u001b[0m\n\u001b[0;32m--> 116\u001b[0;31m         \u001b[0mf\u001b[0m \u001b[0;34m=\u001b[0m \u001b[0mh5py\u001b[0m\u001b[0;34m.\u001b[0m\u001b[0mFile\u001b[0m\u001b[0;34m(\u001b[0m\u001b[0mfilepath\u001b[0m\u001b[0;34m,\u001b[0m \u001b[0mmode\u001b[0m\u001b[0;34m=\u001b[0m\u001b[0;34m\"r\"\u001b[0m\u001b[0;34m)\u001b[0m\u001b[0;34m\u001b[0m\u001b[0;34m\u001b[0m\u001b[0m\n\u001b[0m\u001b[1;32m    117\u001b[0m     \u001b[0;32melse\u001b[0m\u001b[0;34m:\u001b[0m\u001b[0;34m\u001b[0m\u001b[0;34m\u001b[0m\u001b[0m\n\u001b[1;32m    118\u001b[0m         \u001b[0mf\u001b[0m \u001b[0;34m=\u001b[0m \u001b[0mfilepath\u001b[0m\u001b[0;34m\u001b[0m\u001b[0;34m\u001b[0m\u001b[0m\n",
            "\u001b[0;32m/usr/local/lib/python3.12/dist-packages/h5py/_hl/files.py\u001b[0m in \u001b[0;36m__init__\u001b[0;34m(self, name, mode, driver, libver, userblock_size, swmr, rdcc_nslots, rdcc_nbytes, rdcc_w0, track_order, fs_strategy, fs_persist, fs_threshold, fs_page_size, page_buf_size, min_meta_keep, min_raw_keep, locking, alignment_threshold, alignment_interval, meta_block_size, **kwds)\u001b[0m\n\u001b[1;32m    562\u001b[0m                                  \u001b[0mfs_persist\u001b[0m\u001b[0;34m=\u001b[0m\u001b[0mfs_persist\u001b[0m\u001b[0;34m,\u001b[0m \u001b[0mfs_threshold\u001b[0m\u001b[0;34m=\u001b[0m\u001b[0mfs_threshold\u001b[0m\u001b[0;34m,\u001b[0m\u001b[0;34m\u001b[0m\u001b[0;34m\u001b[0m\u001b[0m\n\u001b[1;32m    563\u001b[0m                                  fs_page_size=fs_page_size)\n\u001b[0;32m--> 564\u001b[0;31m                 \u001b[0mfid\u001b[0m \u001b[0;34m=\u001b[0m \u001b[0mmake_fid\u001b[0m\u001b[0;34m(\u001b[0m\u001b[0mname\u001b[0m\u001b[0;34m,\u001b[0m \u001b[0mmode\u001b[0m\u001b[0;34m,\u001b[0m \u001b[0muserblock_size\u001b[0m\u001b[0;34m,\u001b[0m \u001b[0mfapl\u001b[0m\u001b[0;34m,\u001b[0m \u001b[0mfcpl\u001b[0m\u001b[0;34m,\u001b[0m \u001b[0mswmr\u001b[0m\u001b[0;34m=\u001b[0m\u001b[0mswmr\u001b[0m\u001b[0;34m)\u001b[0m\u001b[0;34m\u001b[0m\u001b[0;34m\u001b[0m\u001b[0m\n\u001b[0m\u001b[1;32m    565\u001b[0m \u001b[0;34m\u001b[0m\u001b[0m\n\u001b[1;32m    566\u001b[0m             \u001b[0;32mif\u001b[0m \u001b[0misinstance\u001b[0m\u001b[0;34m(\u001b[0m\u001b[0mlibver\u001b[0m\u001b[0;34m,\u001b[0m \u001b[0mtuple\u001b[0m\u001b[0;34m)\u001b[0m\u001b[0;34m:\u001b[0m\u001b[0;34m\u001b[0m\u001b[0;34m\u001b[0m\u001b[0m\n",
            "\u001b[0;32m/usr/local/lib/python3.12/dist-packages/h5py/_hl/files.py\u001b[0m in \u001b[0;36mmake_fid\u001b[0;34m(name, mode, userblock_size, fapl, fcpl, swmr)\u001b[0m\n\u001b[1;32m    236\u001b[0m         \u001b[0;32mif\u001b[0m \u001b[0mswmr\u001b[0m \u001b[0;32mand\u001b[0m \u001b[0mswmr_support\u001b[0m\u001b[0;34m:\u001b[0m\u001b[0;34m\u001b[0m\u001b[0;34m\u001b[0m\u001b[0m\n\u001b[1;32m    237\u001b[0m             \u001b[0mflags\u001b[0m \u001b[0;34m|=\u001b[0m \u001b[0mh5f\u001b[0m\u001b[0;34m.\u001b[0m\u001b[0mACC_SWMR_READ\u001b[0m\u001b[0;34m\u001b[0m\u001b[0;34m\u001b[0m\u001b[0m\n\u001b[0;32m--> 238\u001b[0;31m         \u001b[0mfid\u001b[0m \u001b[0;34m=\u001b[0m \u001b[0mh5f\u001b[0m\u001b[0;34m.\u001b[0m\u001b[0mopen\u001b[0m\u001b[0;34m(\u001b[0m\u001b[0mname\u001b[0m\u001b[0;34m,\u001b[0m \u001b[0mflags\u001b[0m\u001b[0;34m,\u001b[0m \u001b[0mfapl\u001b[0m\u001b[0;34m=\u001b[0m\u001b[0mfapl\u001b[0m\u001b[0;34m)\u001b[0m\u001b[0;34m\u001b[0m\u001b[0;34m\u001b[0m\u001b[0m\n\u001b[0m\u001b[1;32m    239\u001b[0m     \u001b[0;32melif\u001b[0m \u001b[0mmode\u001b[0m \u001b[0;34m==\u001b[0m \u001b[0;34m'r+'\u001b[0m\u001b[0;34m:\u001b[0m\u001b[0;34m\u001b[0m\u001b[0;34m\u001b[0m\u001b[0m\n\u001b[1;32m    240\u001b[0m         \u001b[0mfid\u001b[0m \u001b[0;34m=\u001b[0m \u001b[0mh5f\u001b[0m\u001b[0;34m.\u001b[0m\u001b[0mopen\u001b[0m\u001b[0;34m(\u001b[0m\u001b[0mname\u001b[0m\u001b[0;34m,\u001b[0m \u001b[0mh5f\u001b[0m\u001b[0;34m.\u001b[0m\u001b[0mACC_RDWR\u001b[0m\u001b[0;34m,\u001b[0m \u001b[0mfapl\u001b[0m\u001b[0;34m=\u001b[0m\u001b[0mfapl\u001b[0m\u001b[0;34m)\u001b[0m\u001b[0;34m\u001b[0m\u001b[0;34m\u001b[0m\u001b[0m\n",
            "\u001b[0;32mh5py/_objects.pyx\u001b[0m in \u001b[0;36mh5py._objects.with_phil.wrapper\u001b[0;34m()\u001b[0m\n",
            "\u001b[0;32mh5py/_objects.pyx\u001b[0m in \u001b[0;36mh5py._objects.with_phil.wrapper\u001b[0;34m()\u001b[0m\n",
            "\u001b[0;32mh5py/h5f.pyx\u001b[0m in \u001b[0;36mh5py.h5f.open\u001b[0;34m()\u001b[0m\n",
            "\u001b[0;31mFileNotFoundError\u001b[0m: [Errno 2] Unable to synchronously open file (unable to open file: name = 'models/model.h5', errno = 2, error message = 'No such file or directory', flags = 0, o_flags = 0)"
          ]
        }
      ],
      "source": [
        "from tensorflow import keras\n",
        "import pickle\n",
        "\n",
        "# Load the model\n",
        "loaded_model = keras.models.load_model(\"models/model.h5\")\n",
        "\n",
        "from tensorflow.keras.layers import TextVectorization\n",
        "\n",
        "# Load the configuration of the text vectorizer\n",
        "with open(\"models/text_vectorizer_config.pkl\", \"rb\") as f:\n",
        "    saved_text_vectorizer_config = pickle.load(f)\n",
        "\n",
        "# Create a new TextVectorization layer with the saved configuration\n",
        "loaded_text_vectorizer = TextVectorization.from_config(saved_text_vectorizer_config)\n",
        "\n",
        "# Load the saved weights into the new TextVectorization layer\n",
        "with open(\"models/text_vectorizer_weights.pkl\", \"rb\") as f:\n",
        "    weights = pickle.load(f)\n",
        "    loaded_text_vectorizer.set_weights(weights)\n"
      ]
    },
    {
      "cell_type": "code",
      "execution_count": null,
      "id": "27e3fe39",
      "metadata": {
        "id": "27e3fe39"
      },
      "outputs": [],
      "source": [
        "# Load the vocabulary\n",
        "with open(\"models/vocab.pkl\", \"rb\") as f:\n",
        "    loaded_vocab = pickle.load(f)\n"
      ]
    },
    {
      "cell_type": "markdown",
      "id": "506f9a17",
      "metadata": {
        "id": "506f9a17"
      },
      "source": [
        "# Model Prediction"
      ]
    },
    {
      "cell_type": "code",
      "execution_count": null,
      "id": "8e2985e7",
      "metadata": {
        "id": "8e2985e7"
      },
      "outputs": [],
      "source": [
        "def invert_multi_hot(encoded_labels):\n",
        "    \"\"\"Reverse a single multi-hot encoded label to a tuple of vocab terms.\"\"\"\n",
        "    hot_indices = np.argwhere(encoded_labels == 1.0)[..., 0]\n",
        "    return np.take(loaded_vocab, hot_indices)"
      ]
    },
    {
      "cell_type": "code",
      "execution_count": null,
      "id": "76f5b374",
      "metadata": {
        "id": "76f5b374"
      },
      "outputs": [],
      "source": [
        "def predict_category(abstract, model, vectorizer, label_lookup):\n",
        "    # Preprocess the abstract using the loaded text vectorizer\n",
        "    preprocessed_abstract = vectorizer([abstract])\n",
        "\n",
        "    # Make predictions using the loaded model\n",
        "    predictions = model.predict(preprocessed_abstract)\n",
        "\n",
        "    # Convert predictions to human-readable labels\n",
        "    predicted_labels = label_lookup(np.round(predictions).astype(int)[0])\n",
        "\n",
        "    return predicted_labels"
      ]
    },
    {
      "cell_type": "code",
      "execution_count": null,
      "id": "6f91a6e8",
      "metadata": {
        "id": "6f91a6e8",
        "outputId": "45ef1a54-1507-4b01-b83e-c341945eb423"
      },
      "outputs": [
        {
          "name": "stdout",
          "output_type": "stream",
          "text": [
            "1/1 [==============================] - 2s 2s/step\n",
            "Predicted Categories: ['cs.LG']\n"
          ]
        }
      ],
      "source": [
        "# Example usage\n",
        "new_abstract = \"Graph neural networks (GNNs) have been widely used to learn vector\\nrepresentation of graph-structured data and achieved better task performance\\nthan conventional methods. The foundation of GNNs is the message passing\\nprocedure, which propagates the information in a node to its neighbors. Since\\nthis procedure proceeds one step per layer, the range of the information\\npropagation among nodes is small in the lower layers, and it expands toward the\\nhigher layers. Therefore, a GNN model has to be deep enough to capture global\\nstructural information in a graph. On the other hand, it is known that deep GNN\\nmodels suffer from performance degradation because they lose nodes' local\\ninformation, which would be essential for good model performance, through many\\nmessage passing steps. In this study, we propose multi-level attention pooling\\n(MLAP) for graph-level classification tasks, which can adapt to both local and\\nglobal structural information in a graph. It has an attention pooling layer for\\neach message passing step and computes the final graph representation by\\nunifying the layer-wise graph representations. The MLAP architecture allows\\nmodels to utilize the structural information of graphs with multiple levels of\\nlocalities because it preserves layer-wise information before losing them due\\nto oversmoothing. Results of our experiments show that the MLAP architecture\\nimproves the graph classification performance compared to the baseline\\narchitectures. In addition, analyses on the layer-wise graph representations\\nsuggest that aggregating information from multiple levels of localities indeed\\nhas the potential to improve the discriminability of learned graph\\nrepresentations.\"\n",
        "predicted_categories = predict_category(new_abstract, loaded_model, loaded_text_vectorizer, invert_multi_hot)\n",
        "print(\"Predicted Categories:\", predicted_categories)\n"
      ]
    },
    {
      "cell_type": "code",
      "execution_count": null,
      "id": "e13ef48a",
      "metadata": {
        "id": "e13ef48a",
        "outputId": "35f2411c-9140-4c0b-fdad-5b9f87dbbc02"
      },
      "outputs": [
        {
          "name": "stdout",
          "output_type": "stream",
          "text": [
            "1/1 [==============================] - 0s 459ms/step\n",
            "Predicted Categories: ['cs.LG' 'cs.AI']\n"
          ]
        }
      ],
      "source": [
        "# Example usage\n",
        "new_abstract = 'Deep networks and decision forests (such as random forests and gradient\\nboosted trees) are the leading machine learning methods for structured and\\ntabular data, respectively. Many papers have empirically compared large numbers\\nof classifiers on one or two different domains (e.g., on 100 different tabular\\ndata settings). However, a careful conceptual and empirical comparison of these\\ntwo strategies using the most contemporary best practices has yet to be\\nperformed. Conceptually, we illustrate that both can be profitably viewed as\\n\"partition and vote\" schemes. Specifically, the representation space that they\\nboth learn is a partitioning of feature space into a union of convex polytopes.\\nFor inference, each decides on the basis of votes from the activated nodes.\\nThis formulation allows for a unified basic understanding of the relationship\\nbetween these methods. Empirically, we compare these two strategies on hundreds\\nof tabular data settings, as well as several vision and auditory settings. Our\\nfocus is on datasets with at most 10,000 samples, which represent a large\\nfraction of scientific and biomedical datasets. In general, we found forests to\\nexcel at tabular and structured data (vision and audition) with small sample\\nsizes, whereas deep nets performed better on structured data with larger sample\\nsizes. This suggests that further gains in both scenarios may be realized via\\nfurther combining aspects of forests and networks. We will continue revising\\nthis technical report in the coming months with updated results.'\n",
        "predicted_categories = predict_category(new_abstract, loaded_model, loaded_text_vectorizer, invert_multi_hot)\n",
        "print(\"Predicted Categories:\", predicted_categories)"
      ]
    },
    {
      "cell_type": "code",
      "execution_count": null,
      "id": "77b90c6e",
      "metadata": {
        "id": "77b90c6e"
      },
      "outputs": [],
      "source": [
        "# great resutls..................................."
      ]
    },
    {
      "cell_type": "markdown",
      "id": "b5c90e37",
      "metadata": {
        "id": "b5c90e37"
      },
      "source": [
        "# =======Section 2========"
      ]
    },
    {
      "cell_type": "markdown",
      "id": "cecfe2d1",
      "metadata": {
        "id": "cecfe2d1"
      },
      "source": [
        "# 2 Recommendation System"
      ]
    },
    {
      "cell_type": "code",
      "execution_count": null,
      "id": "08b0ebec",
      "metadata": {
        "id": "08b0ebec"
      },
      "outputs": [],
      "source": [
        "arxiv_data.drop(columns = [\"terms\",\"abstracts\"], inplace = True)"
      ]
    },
    {
      "cell_type": "code",
      "execution_count": null,
      "id": "c94e6f2f",
      "metadata": {
        "id": "c94e6f2f"
      },
      "outputs": [],
      "source": [
        "arxiv_data.drop_duplicates(inplace= True)\n",
        "arxiv_data.reset_index(drop= True,inplace = True)"
      ]
    },
    {
      "cell_type": "code",
      "execution_count": null,
      "id": "8ca5e456",
      "metadata": {
        "id": "8ca5e456"
      },
      "outputs": [],
      "source": [
        "pd.set_option('display.max_colwidth', None)\n",
        "arxiv_data"
      ]
    },
    {
      "cell_type": "markdown",
      "id": "95b71915",
      "metadata": {
        "id": "95b71915"
      },
      "source": [
        "# Sentence Transformers"
      ]
    },
    {
      "cell_type": "code",
      "execution_count": null,
      "id": "5712474f",
      "metadata": {
        "id": "5712474f"
      },
      "outputs": [],
      "source": [
        "# !pip install -U -q sentence-transformers"
      ]
    },
    {
      "cell_type": "code",
      "execution_count": null,
      "id": "514a5734",
      "metadata": {
        "id": "514a5734"
      },
      "outputs": [],
      "source": [
        "# This imports the SentenceTransformer class from the Sentence Transformers library.\n",
        "from sentence_transformers import SentenceTransformer, util\n",
        "# we load all-MiniLM-L6-v2, which is a MiniLM model fine tuned on a large dataset of over\n",
        "# 1 billion training pairs.\n",
        "#This initializes the 'all-MiniLM-L6-v2' model from Sentence Transformers.\n",
        "# This model is capable of encoding sentences into fixed-size vectors (embeddings).\n",
        "model = SentenceTransformer('all-MiniLM-L6-v2')\n",
        "#Our sentences we like to encode\n",
        "sentences = arxiv_data['titles']\n",
        "#Sentences are encoded by calling model.encode()\n",
        "embeddings = model.encode(sentences)\n",
        "\n",
        "\"\"\"\n",
        "The embeddings can be used for various natural language processing (NLP) tasks,\n",
        "such as similarity search, clustering\n",
        "\"\"\""
      ]
    },
    {
      "cell_type": "code",
      "execution_count": null,
      "id": "c502c4e0",
      "metadata": {
        "id": "c502c4e0"
      },
      "outputs": [],
      "source": [
        "embeddings"
      ]
    },
    {
      "cell_type": "markdown",
      "id": "db125c7d",
      "metadata": {
        "id": "db125c7d"
      },
      "source": [
        "# Why select all-MiniLM-L6-v2?\n",
        "\n",
        "All-round model tuned for many use-cases. Trained on a large and diverse dataset of over 1 billion training pairs. Source\n",
        "\n",
        "Its small in size 80 MB with good performance."
      ]
    },
    {
      "cell_type": "markdown",
      "id": "355ffc70",
      "metadata": {
        "id": "355ffc70"
      },
      "source": [
        "# Print the embeddings"
      ]
    },
    {
      "cell_type": "code",
      "execution_count": null,
      "id": "0af0618d",
      "metadata": {
        "id": "0af0618d"
      },
      "outputs": [],
      "source": [
        "c = 0\n",
        "#This loop iterates over pairs of sentences and their corresponding embeddings.\n",
        "#zip is used to iterate over both lists simultaneously.\n",
        "for sentence, embedding in zip(sentences, embeddings):\n",
        "    print(\"Sentence:\", sentence)\n",
        "    print(\"Embedding length:\", len(embedding)) # list of floats\n",
        "    print(\"\")\n",
        "    # Breaks out of the loop after printing information for the first 5 sentences.\n",
        "    if c >=5:\n",
        "        break\n",
        "    c +=1"
      ]
    },
    {
      "cell_type": "markdown",
      "id": "f5cdb484",
      "metadata": {
        "id": "f5cdb484"
      },
      "source": [
        "# Save files"
      ]
    },
    {
      "cell_type": "code",
      "execution_count": null,
      "id": "a802f9f1",
      "metadata": {
        "id": "a802f9f1"
      },
      "outputs": [],
      "source": [
        "import pickle\n",
        "# Saving sentences and corresponding embeddings\n",
        "with open('embeddings.pkl', 'wb') as f:\n",
        "    pickle.dump(embeddings, f)\n",
        "\n",
        "with open('sentences.pkl', 'wb') as f:\n",
        "    pickle.dump(sentences, f)\n",
        "\n",
        "with open('rec_model.pkl', 'wb') as f:\n",
        "    pickle.dump(model, f)"
      ]
    },
    {
      "cell_type": "markdown",
      "id": "1dcea57f",
      "metadata": {
        "id": "1dcea57f"
      },
      "source": [
        "# Recommendation for similar papers"
      ]
    },
    {
      "cell_type": "code",
      "execution_count": null,
      "id": "dcb1a450",
      "metadata": {
        "id": "dcb1a450"
      },
      "outputs": [],
      "source": [
        "# load save files\n",
        "embeddings = pickle.load(open('models/embeddings.pkl','rb'))\n",
        "sentences = pickle.load(open('models/sentences.pkl','rb'))\n",
        "rec_model = pickle.load(open('models/rec_model.pkl','rb'))"
      ]
    },
    {
      "cell_type": "code",
      "execution_count": null,
      "id": "84ffe218",
      "metadata": {
        "id": "84ffe218"
      },
      "outputs": [],
      "source": [
        "import torch\n",
        "\n",
        "def recommendation(input_paper):\n",
        "    # Calculate cosine similarity scores between the embeddings of input_paper and all papers in the dataset.\n",
        "    cosine_scores = util.cos_sim(embeddings, rec_model.encode(input_paper))\n",
        "\n",
        "    # Get the indices of the top-k most similar papers based on cosine similarity.\n",
        "    top_similar_papers = torch.topk(cosine_scores, dim=0, k=5, sorted=True)\n",
        "\n",
        "    # Retrieve the titles of the top similar papers.\n",
        "    papers_list = []\n",
        "    for i in top_similar_papers.indices:\n",
        "        papers_list.append(sentences[i.item()])\n",
        "\n",
        "    return papers_list\n"
      ]
    },
    {
      "cell_type": "code",
      "execution_count": null,
      "id": "12c90388",
      "metadata": {
        "id": "12c90388"
      },
      "outputs": [],
      "source": [
        "# exampel usage 1: (use this paper as input (Attention is All you Need))\n",
        "input_paper = input(\"Enter the title of any paper you like\")\n",
        "recommend_papers = recommendation(input_paper)\n",
        "\n",
        "\n",
        "print(\"We recommend to read this paper............\")\n",
        "print(\"=============================================\")\n",
        "for paper in recommend_papers:\n",
        "    print(paper)"
      ]
    },
    {
      "cell_type": "code",
      "execution_count": null,
      "id": "92d70ed0",
      "metadata": {
        "id": "92d70ed0"
      },
      "outputs": [],
      "source": [
        "# exampel usage 2: (use this paper as input (BERT: Pre-training of Deep Bidirectional Transformers for Language Understanding))\n",
        "input_paper = input(\"Enter the title of any paper you like\")\n",
        "recommend_papers = recommendation(input_paper)\n",
        "\n",
        "\n",
        "print(\"We recommend to read this paper............\")\n",
        "print(\"=============================================\")\n",
        "for paper in recommend_papers:\n",
        "    print(paper)"
      ]
    },
    {
      "cell_type": "code",
      "execution_count": null,
      "id": "fe398bb9",
      "metadata": {
        "id": "fe398bb9"
      },
      "outputs": [],
      "source": [
        "# exampel usage 3: (use this paper as input (Review of deep learning: concepts, CNN architectures, challenges, applications, future directions))\n",
        "input_paper = input(\"Enter the title of any paper you like\")\n",
        "recommend_papers = recommendation(input_paper)\n",
        "\n",
        "\n",
        "print(\"We recommend to read this paper............\")\n",
        "print(\"=============================================\")\n",
        "for paper in recommend_papers:\n",
        "    print(paper)"
      ]
    },
    {
      "cell_type": "code",
      "execution_count": null,
      "id": "026a1eb1",
      "metadata": {
        "id": "026a1eb1"
      },
      "outputs": [],
      "source": [
        "# install this versions\n",
        "import sentence_transformers\n",
        "import tensorflow\n",
        "import torch\n",
        "print(torch.__version__)\n",
        "print(sentence_transformers.__version__)\n",
        "print(tensorflow.__version__)"
      ]
    },
    {
      "cell_type": "code",
      "execution_count": null,
      "id": "813491da",
      "metadata": {
        "id": "813491da"
      },
      "outputs": [],
      "source": []
    }
  ],
  "metadata": {
    "kernelspec": {
      "display_name": "Python 3",
      "name": "python3"
    },
    "language_info": {
      "codemirror_mode": {
        "name": "ipython",
        "version": 3
      },
      "file_extension": ".py",
      "mimetype": "text/x-python",
      "name": "python",
      "nbconvert_exporter": "python",
      "pygments_lexer": "ipython3",
      "version": "3.9.12"
    },
    "colab": {
      "provenance": [],
      "gpuType": "T4"
    },
    "accelerator": "GPU"
  },
  "nbformat": 4,
  "nbformat_minor": 5
}